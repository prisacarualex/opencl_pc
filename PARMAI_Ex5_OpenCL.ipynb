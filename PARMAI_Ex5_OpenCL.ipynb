{
 "cells": [
  {
   "cell_type": "markdown",
   "metadata": {},
   "source": [
    "# Environment Setup"
   ]
  },
  {
   "cell_type": "code",
   "execution_count": 39,
   "metadata": {
    "colab": {
     "base_uri": "https://localhost:8080/"
    },
    "id": "eJmKhKcDuScI",
    "outputId": "e707d5a1-7af6-4f9e-910f-ef18afff2d20"
   },
   "outputs": [
    {
     "name": "stdout",
     "output_type": "stream",
     "text": [
      "PRETTY_NAME=\"Ubuntu 22.04.4 LTS\"\n",
      "NAME=\"Ubuntu\"\n",
      "VERSION_ID=\"22.04\"\n",
      "VERSION=\"22.04.4 LTS (Jammy Jellyfish)\"\n",
      "VERSION_CODENAME=jammy\n",
      "ID=ubuntu\n",
      "ID_LIKE=debian\n",
      "HOME_URL=\"https://www.ubuntu.com/\"\n",
      "SUPPORT_URL=\"https://help.ubuntu.com/\"\n",
      "BUG_REPORT_URL=\"https://bugs.launchpad.net/ubuntu/\"\n",
      "PRIVACY_POLICY_URL=\"https://www.ubuntu.com/legal/terms-and-policies/privacy-policy\"\n",
      "UBUNTU_CODENAME=jammy\n"
     ]
    }
   ],
   "source": [
    "# Check Linux distro. and its version\n",
    "!cat /etc/os-release"
   ]
  },
  {
   "cell_type": "code",
   "execution_count": 40,
   "metadata": {
    "colab": {
     "base_uri": "https://localhost:8080/"
    },
    "id": "_VobJBnlumWX",
    "outputId": "092e15d5-df00-4fae-efd9-d17194471ae3"
   },
   "outputs": [
    {
     "name": "stdout",
     "output_type": "stream",
     "text": [
      "nvcc: NVIDIA (R) Cuda compiler driver\n",
      "Copyright (c) 2005-2024 NVIDIA Corporation\n",
      "Built on Tue_Oct_29_23:50:19_PDT_2024\n",
      "Cuda compilation tools, release 12.6, V12.6.85\n",
      "Build cuda_12.6.r12.6/compiler.35059454_0\n"
     ]
    }
   ],
   "source": [
    "# Check if CUDA (including drivers) is installed\n",
    "!/usr/local/cuda/bin/nvcc --version"
   ]
  },
  {
   "cell_type": "code",
   "execution_count": null,
   "metadata": {
    "colab": {
     "base_uri": "https://localhost:8080/"
    },
    "id": "r7Oymm0BvSDa",
    "outputId": "6e39a5fa-8a3a-4d66-814d-2cb3a94a2eaf"
   },
   "outputs": [],
   "source": [
    "# If not, then install CUDA. Important notes:\n",
    "# 1. Better follow the instruction on https://developer.nvidia.com/cuda-downloads\n",
    "# 2. Mind your PC's settings: Operating System -> Architecture -> Distribution -> Version -> Installer Type: deb (local)\n",
    "# 3. Sample (student uncomments below code snippet and run it on purpose)\n",
    "#!wget https://developer.download.nvidia.com/compute/cuda/repos/ubuntu2204/x86_64/cuda-ubuntu2204.pin\n",
    "#!mv cuda-ubuntu2204.pin /etc/apt/preferences.d/cuda-repository-pin-600\n",
    "#!wget https://developer.download.nvidia.com/compute/cuda/12.6.3/local_installers/cuda-repo-ubuntu2204-12-6-local_12.6.3-560.35.05-1_amd64.deb\n",
    "#!dpkg -i cuda-repo-ubuntu2204-12-6-local_12.6.3-560.35.05-1_amd64.deb\n",
    "#!cp /var/cuda-repo-ubuntu2204-12-6-local/cuda-*-keyring.gpg /usr/share/keyrings/\n",
    "#!apt-get update\n",
    "#!apt-get -y install cuda-toolkit-12-6"
   ]
  },
  {
   "cell_type": "markdown",
   "metadata": {},
   "source": [
    "# Task 1: Getting Started with OpenCL"
   ]
  },
  {
   "cell_type": "code",
   "execution_count": 48,
   "metadata": {
    "id": "HmVsx0m4usla"
   },
   "outputs": [],
   "source": [
    "util = \"\"\"\n",
    "#include <stdio.h>\n",
    "#include <stdlib.h>\n",
    "#include <iostream>\n",
    "#include <sys/time.h>\n",
    "\n",
    "#define CL_TARGET_OPENCL_VERSION 120\n",
    "#include <CL/opencl.h>\n",
    "\n",
    "#define MAX_SOURCE_SIZE (0x100000)\n",
    "\n",
    "#define MAXVALUE 100\n",
    "\n",
    "//--------------------------------------------------------\n",
    "void dump (int *x, int N, int M)\n",
    "{\n",
    "    for (int i = 0; i < N; i++)\n",
    "        {\n",
    "            for (int j = 0; j < M; j++)\n",
    "                std::cout << x[i * M + j] << \" \";\n",
    "            std::cout << std::endl;\n",
    "        }\n",
    "    std::cout << \"----------------------------------------\" << std::endl;\n",
    "}\n",
    "\n",
    "void numberGen (int N, int max, int *store)\n",
    "{\n",
    "    #pragma omp parallel for\n",
    "    for (int i = 0; i < N; i++)\n",
    "        store[i] = rand () % max;\n",
    "}\n",
    "\n",
    "const char* getErrorString(cl_int error) {\n",
    "    switch (error) {\n",
    "        case CL_SUCCESS: return \"Success!\";\n",
    "        case CL_DEVICE_NOT_FOUND: return \"Device not found.\";\n",
    "        case CL_DEVICE_NOT_AVAILABLE: return \"Device not available\";\n",
    "        case CL_COMPILER_NOT_AVAILABLE: return \"Compiler not available\";\n",
    "        case CL_MEM_OBJECT_ALLOCATION_FAILURE: return \"Memory object allocation failure\";\n",
    "        case CL_OUT_OF_RESOURCES: return \"Out of resources\";\n",
    "        case CL_OUT_OF_HOST_MEMORY: return \"Out of host memory\";\n",
    "        case CL_PROFILING_INFO_NOT_AVAILABLE: return \"Profiling information not available\";\n",
    "        case CL_MEM_COPY_OVERLAP: return \"Memory copy overlap\";\n",
    "        case CL_IMAGE_FORMAT_MISMATCH: return \"Image format mismatch\";\n",
    "        case CL_IMAGE_FORMAT_NOT_SUPPORTED: return \"Image format not supported\";\n",
    "        case CL_BUILD_PROGRAM_FAILURE: return \"Program build failure\";\n",
    "        case CL_MAP_FAILURE: return \"Map failure\";\n",
    "        case CL_MISALIGNED_SUB_BUFFER_OFFSET: return \"Misaligned sub buffer offset\";\n",
    "        case CL_EXEC_STATUS_ERROR_FOR_EVENTS_IN_WAIT_LIST: return \"Execution status error for events in wait list\";\n",
    "        case CL_COMPILE_PROGRAM_FAILURE: return \"Compile program failure\";\n",
    "        case CL_LINKER_NOT_AVAILABLE: return \"Linker not available\";\n",
    "        case CL_LINK_PROGRAM_FAILURE: return \"Link program failure\";\n",
    "        case CL_DEVICE_PARTITION_FAILED: return \"Device partition failed\";\n",
    "        case CL_KERNEL_ARG_INFO_NOT_AVAILABLE: return \"Kernel argument information not available\";\n",
    "        default: return \"Unknown error\";\n",
    "    }\n",
    "}\n",
    "\n",
    "\"\"\""
   ]
  },
  {
   "cell_type": "code",
   "execution_count": 118,
   "metadata": {
    "id": "kd98WGJouxDH"
   },
   "outputs": [],
   "source": [
    "main = \"\"\"\n",
    "int main(int argc, char *argv[]) {\n",
    "    if (argc != 4) {\n",
    "        std::cout << \"Use : \" << argv[0] << \" N K M\" << std::endl;\n",
    "        exit(1);\n",
    "    }\n",
    "    srand(time(0));\n",
    "    const int N = atoi(argv[1]);\n",
    "    const int K = atoi(argv[2]);\n",
    "    const int M = atoi(argv[3]);\n",
    "\n",
    "    // Create the 3 vectors\n",
    "    int *A = new int[N * K];\n",
    "    int *B = new int[K * M];\n",
    "    int *C = new int[N * M];\n",
    "\n",
    "    numberGen(N * K, MAXVALUE, A);\n",
    "    numberGen(K * M, MAXVALUE, B);\n",
    "    \n",
    "    struct timeval begin, end;\n",
    "\n",
    "    \n",
    "    // Load the kernel source code into the array source_str\n",
    "    FILE *fp;\n",
    "    char *source_str;\n",
    "    size_t source_size;\n",
    "\n",
    "    fp = fopen(\"matmul_opencl_kernel.cl\", \"r\");\n",
    "    if (!fp) {\n",
    "        std::cerr << \"Failed to load kernel\" << std::endl;\n",
    "        exit(1);\n",
    "    }\n",
    "\n",
    "    source_str = (char *)malloc(MAX_SOURCE_SIZE);\n",
    "    source_size = fread(source_str, 1, MAX_SOURCE_SIZE, fp);\n",
    "    fclose(fp);\n",
    "\n",
    "    // Get platform and device information\n",
    "    cl_platform_id platform_id = NULL;\n",
    "    cl_device_id device_id = NULL;\n",
    "    cl_uint ret_num_devices;\n",
    "    cl_uint ret_num_platforms;\n",
    "    cl_int ret;\n",
    "    ret = clGetPlatformIDs(1, &platform_id, &ret_num_platforms);\n",
    "    ret = clGetDeviceIDs(platform_id, CL_DEVICE_TYPE_ALL, 1, &device_id, &ret_num_devices);\n",
    "\n",
    "    gettimeofday(&begin, 0);\n",
    "\n",
    "    // Check available platforms\n",
    "    cl_uint num_platforms;\n",
    "    ret = clGetPlatformIDs(0, NULL, &num_platforms);\n",
    "    if (ret != CL_SUCCESS) {\n",
    "        std::cerr << \"Failed to get number of platforms: \" << getErrorString(ret) << std::endl;\n",
    "        return -1;\n",
    "    }\n",
    "    \n",
    "    std::cout << \"Number of OpenCL platforms: \" << num_platforms << std::endl;\n",
    "    \n",
    "    // Allocate memory for platform IDs\n",
    "    cl_platform_id *platforms = (cl_platform_id *)malloc(num_platforms * sizeof(cl_platform_id));\n",
    "    ret = clGetPlatformIDs(num_platforms, platforms, NULL);\n",
    "    if (ret != CL_SUCCESS) {\n",
    "        std::cerr << \"Failed to get platform IDs: \" << getErrorString(ret) << std::endl;\n",
    "        free(platforms);\n",
    "        return -1;\n",
    "    }\n",
    "    \n",
    "    // Print platform names\n",
    "    for (cl_uint i = 0; i < num_platforms; i++) {\n",
    "        char platform_name[128];\n",
    "        clGetPlatformInfo(platforms[i], CL_PLATFORM_NAME, sizeof(platform_name), platform_name, NULL);\n",
    "        std::cout << \"Platform \" << i << \": \" << platform_name << std::endl;\n",
    "    }\n",
    "    \n",
    "    // Get device IDs\n",
    "    cl_uint num_devices;\n",
    "    ret = clGetDeviceIDs(platforms[0], CL_DEVICE_TYPE_ALL, 0, NULL, &num_devices);\n",
    "    if (ret != CL_SUCCESS) {\n",
    "        std::cerr << \"Failed to get number of devices: \" << getErrorString(ret) << std::endl;\n",
    "        free(platforms);\n",
    "        return -1;\n",
    "    }\n",
    "    \n",
    "    std::cout << \"Number of devices: \" << num_devices << std::endl;\n",
    "    \n",
    "    // Allocate memory for device IDs\n",
    "    cl_device_id *devices = (cl_device_id *)malloc(num_devices * sizeof(cl_device_id));\n",
    "    ret = clGetDeviceIDs(platforms[0], CL_DEVICE_TYPE_ALL, num_devices, devices, NULL);\n",
    "    if (ret != CL_SUCCESS) {\n",
    "        std::cerr << \"Failed to get device IDs: \" << getErrorString(ret) << std::endl;\n",
    "        free(devices);\n",
    "        free(platforms);\n",
    "        return -1;\n",
    "    }\n",
    "    \n",
    "    // Print device names\n",
    "    for (cl_uint i = 0; i < num_devices; i++) {\n",
    "        char device_name[128];\n",
    "        clGetDeviceInfo(devices[i], CL_DEVICE_NAME, sizeof(device_name), device_name, NULL);\n",
    "        std::cout << \"Device \" << i << \": \" << device_name << std::endl;\n",
    "    }\n",
    "    \n",
    "    // Clean up\n",
    "    free(devices);\n",
    "    free(platforms);\n",
    "\n",
    "    // Create an OpenCL context for device in device_id\n",
    "    cl_context context = clCreateContext(NULL, 1, &device_id, NULL, NULL, &ret);\n",
    "    if (ret != CL_SUCCESS) {\n",
    "        std::cerr << \"Failed to create OpenCL context: \" << getErrorString(ret) << std::endl;\n",
    "        return -1;\n",
    "    }\n",
    "\n",
    "    // Create a command queue for device in device_id\n",
    "    cl_command_queue queue = clCreateCommandQueue(context, device_id, 0, &ret);\n",
    "    if (ret != CL_SUCCESS) {\n",
    "        std::cerr << \"Failed to create command queue: \" << getErrorString(ret) << std::endl;\n",
    "        return -1;\n",
    "    }\n",
    "\n",
    "    // Declare memory buffers\n",
    "    cl_mem a_mem_obj;\n",
    "    cl_mem b_mem_obj;\n",
    "    cl_mem c_mem_obj;\n",
    "\n",
    "    // Create memory buffers on the device for each vector\n",
    "    a_mem_obj = clCreateBuffer(context, CL_MEM_READ_ONLY, N * K * sizeof(int), NULL, &ret);\n",
    "    if (ret != CL_SUCCESS) {\n",
    "        std::cerr << \"Failed to create buffer for A: \" << getErrorString(ret) << std::endl;\n",
    "        return -1;\n",
    "    }\n",
    "\n",
    "    b_mem_obj = clCreateBuffer(context, CL_MEM_READ_ONLY, K * M * sizeof(int), NULL, &ret);\n",
    "    if (ret != CL_SUCCESS) {\n",
    "        std::cerr << \"Failed to create buffer for B: \" << getErrorString(ret) << std::endl;\n",
    "        return -1;\n",
    "    }\n",
    "\n",
    "    c_mem_obj = clCreateBuffer(context, CL_MEM_WRITE_ONLY, N * M * sizeof(int), NULL, &ret);\n",
    "    if (ret != CL_SUCCESS) {\n",
    "        std::cerr << \"Failed to create buffer for C: \" << getErrorString(ret) << std::endl;\n",
    "        return -1;\n",
    "    }\n",
    "\n",
    "    // Copy the vectors to their respective memory buffers\n",
    "    ret = clEnqueueWriteBuffer(queue, a_mem_obj, CL_TRUE, 0, N * K * sizeof(int), A, 0, NULL, NULL);\n",
    "    if (ret != CL_SUCCESS) {\n",
    "        std::cerr << \"Failed to write to A buffer: \" << getErrorString(ret) << std::endl;\n",
    "        return -1;\n",
    "    }\n",
    "\n",
    "    ret = clEnqueueWriteBuffer(queue, b_mem_obj, CL_TRUE, 0, K * M * sizeof(int), B, 0, NULL, NULL);\n",
    "    if (ret != CL_SUCCESS) {\n",
    "        std::cerr << \"Failed to write to B buffer: \" << getErrorString(ret) << std::endl;\n",
    "        return -1;\n",
    "    }\n",
    "\n",
    "    // Create a program from the kernel source\n",
    "    cl_program program = clCreateProgramWithSource(context, 1, (const char **)&source_str, (const size_t *)&source_size, &ret);\n",
    "    if (ret != CL_SUCCESS) {\n",
    "        std::cerr << \"Failed to create program: \" << getErrorString(ret) << std::endl;\n",
    "        return -1;\n",
    "    }\n",
    "\n",
    "    // Build the program\n",
    "    ret = clBuildProgram(program, 1, &device_id, NULL, NULL, NULL);\n",
    "    if (ret != CL_SUCCESS) {\n",
    "        size_t log_size;\n",
    "        clGetProgramBuildInfo(program, device_id, CL_PROGRAM_BUILD_LOG, MAX_SOURCE_SIZE, source_str, &log_size);\n",
    "        source_str[log_size] = '0'; // Null-terminate the string correctly\n",
    "        std::cerr << \"Error in kernel compilation:\" << source_str << std::endl; // Correctly formatted print statement\n",
    "        return -1;\n",
    "    }\n",
    "\n",
    "    // Create the OpenCL kernel\n",
    "    cl_kernel kernel = clCreateKernel(program, \"matmul_kernel\", &ret);\n",
    "    if (ret != CL_SUCCESS) {\n",
    "        std::cerr << \"Failed to create kernel: \" << getErrorString(ret) << std::endl;\n",
    "        return -1;\n",
    "    }\n",
    "\n",
    "    // Set the arguments of the kernel\n",
    "    ret = clSetKernelArg(kernel, 0, sizeof(cl_mem), (void *)&a_mem_obj);\n",
    "    ret |= clSetKernelArg(kernel, 1, sizeof(cl_mem), (void *)&b_mem_obj);\n",
    "    ret |= clSetKernelArg(kernel, 2, sizeof(cl_mem), (void *)&c_mem_obj);\n",
    "    ret |= clSetKernelArg(kernel, 3, sizeof(int), (void *)&N);\n",
    "    ret |= clSetKernelArg(kernel, 4, sizeof(int), (void *)&K);\n",
    "    ret |= clSetKernelArg(kernel, 5, sizeof(int), (void *)&M);\n",
    "\n",
    "    // Set local and global workgroup sizes\n",
    "    size_t global_work_size[2] = {static_cast<size_t>(N), static_cast<size_t>(M)};\n",
    "    size_t local_work_size[2] = {1, 1}; // You can adjust this based on your device capabilities\n",
    "\n",
    "    // Execute the OpenCL kernel\n",
    "    ret = clEnqueueNDRangeKernel(queue, kernel, 2, NULL, global_work_size, local_work_size, 0, NULL, NULL);\n",
    "    if (ret != CL_SUCCESS) {\n",
    "        std::cerr << \"Failed to execute kernel: \" << getErrorString(ret) << std::endl;\n",
    "        return -1;\n",
    "    }\n",
    "\n",
    "    // Read the memory buffer C on the device to the local variable C\n",
    "    ret = clEnqueueReadBuffer(queue, c_mem_obj, CL_TRUE, 0, N * M * sizeof(int), C, 0, NULL, NULL);\n",
    "    if (ret != CL_SUCCESS) {\n",
    "        std::cerr << \"Failed to read C buffer: \" << getErrorString(ret) << std::endl;\n",
    "        return -1;\n",
    "    }\n",
    "\n",
    "    gettimeofday(&end, 0);\n",
    "\n",
    "    // Print the result to the terminal\n",
    "    std::cout << \"Matrix A:\" << std::endl;\n",
    "    dump(A, N, K);\n",
    "    \n",
    "    std::cout << \"Matrix B:\" << std::endl;\n",
    "    dump(B, K, M);\n",
    "    \n",
    "    std::cout << \"Matrix C (Result):\" << std::endl;\n",
    "    dump(C, N, M);\n",
    "\n",
    "    // Calculate execution time\n",
    "    long seconds = end.tv_sec - begin.tv_sec;\n",
    "    long microseconds = end.tv_usec - begin.tv_usec;\n",
    "    double elapsed = seconds + microseconds * 1e-6;\n",
    "    std::cout << \"Time elapsed: \" << elapsed << \" seconds.\" << std::endl;\n",
    "    \n",
    "\n",
    "    // Clean up\n",
    "    clFlush(queue);\n",
    "    clFinish(queue);\n",
    "    clReleaseKernel(kernel);\n",
    "    clReleaseProgram(program);\n",
    "    clReleaseMemObject(a_mem_obj);\n",
    "    clReleaseMemObject(b_mem_obj);\n",
    "    clReleaseMemObject(c_mem_obj);\n",
    "    clReleaseCommandQueue(queue);\n",
    "    clReleaseContext(context);\n",
    "    free(source_str);\n",
    "    delete[] A;\n",
    "    delete[] B;\n",
    "    delete[] C;\n",
    "\n",
    "    return 0;\n",
    "}\n",
    "\n",
    "\"\"\""
   ]
  },
  {
   "cell_type": "code",
   "execution_count": 119,
   "metadata": {
    "id": "xU_HTC9Cu118"
   },
   "outputs": [],
   "source": [
    "kernel = \"\"\"\n",
    "__kernel void matmul_kernel(__global int *A, __global int *B, __global int *C, int N, int K, int M) {\n",
    "    // Get Index\n",
    "    int row = get_global_id(0);\n",
    "    int col = get_global_id(1);\n",
    "\n",
    "    // Calculate C[row][col]\n",
    "    if (row < N && col < M) {\n",
    "        int sum = 0;\n",
    "        for (int k = 0; k < K; k++) {\n",
    "            sum += A[row * K + k] * B[k * M + col];\n",
    "        }\n",
    "        C[row * M + col] = sum;\n",
    "    }\n",
    "}\n",
    "\"\"\""
   ]
  },
  {
   "cell_type": "code",
   "execution_count": 141,
   "metadata": {},
   "outputs": [],
   "source": [
    "util = \"\"\"\n",
    "#include <CL/opencl.h>\n",
    "#include <iostream>\n",
    "#define CL_TARGET_OPENCL_VERSION 120\n",
    "const char* getErrorString(cl_int error) {\n",
    "    switch (error) {\n",
    "        case CL_SUCCESS: return \"Success!\";\n",
    "        case CL_DEVICE_NOT_FOUND: return \"Device not found.\";\n",
    "        case CL_DEVICE_NOT_AVAILABLE: return \"Device not available\";\n",
    "        case CL_COMPILER_NOT_AVAILABLE: return \"Compiler not available\";\n",
    "        case CL_MEM_OBJECT_ALLOCATION_FAILURE: return \"Memory object allocation failure\";\n",
    "        case CL_OUT_OF_RESOURCES: return \"Out of resources\";\n",
    "        case CL_OUT_OF_HOST_MEMORY: return \"Out of host memory\";\n",
    "        case CL_PROFILING_INFO_NOT_AVAILABLE: return \"Profiling information not available\";\n",
    "        case CL_MEM_COPY_OVERLAP: return \"Memory copy overlap\";\n",
    "        case CL_IMAGE_FORMAT_MISMATCH: return \"Image format mismatch\";\n",
    "        case CL_IMAGE_FORMAT_NOT_SUPPORTED: return \"Image format not supported\";\n",
    "        case CL_BUILD_PROGRAM_FAILURE: return \"Program build failure\";\n",
    "        case CL_MAP_FAILURE: return \"Map failure\";\n",
    "        case CL_MISALIGNED_SUB_BUFFER_OFFSET: return \"Misaligned sub buffer offset\";\n",
    "        case CL_EXEC_STATUS_ERROR_FOR_EVENTS_IN_WAIT_LIST: return \"Execution status error for events in wait list\";\n",
    "        case CL_COMPILE_PROGRAM_FAILURE: return \"Compile program failure\";\n",
    "        case CL_LINKER_NOT_AVAILABLE: return \"Linker not available\";\n",
    "        case CL_LINK_PROGRAM_FAILURE: return \"Link program failure\";\n",
    "        case CL_DEVICE_PARTITION_FAILED: return \"Device partition failed\";\n",
    "        case CL_KERNEL_ARG_INFO_NOT_AVAILABLE: return \"Kernel argument information not available\";\n",
    "        default: return \"Unknown error\";\n",
    "    }\n",
    "}\n",
    "\"\"\""
   ]
  },
  {
   "cell_type": "code",
   "execution_count": 142,
   "metadata": {},
   "outputs": [],
   "source": [
    "main = \"\"\"\n",
    "#define CL_TARGET_OPENCL_VERSION 120\n",
    "\n",
    "int main() {\n",
    "    cl_uint num_platforms;\n",
    "    cl_int ret = clGetPlatformIDs(0, NULL, &num_platforms);\n",
    "    if (ret != CL_SUCCESS) {\n",
    "        std::cerr << \"Failed to get number of platforms: \" << getErrorString(ret) << std::endl;\n",
    "        return -1;\n",
    "    }\n",
    "\n",
    "    std::cout << \"Number of OpenCL platforms: \" << num_platforms << std::endl;\n",
    "\n",
    "    return 0;\n",
    "}\n",
    "\n",
    "\"\"\""
   ]
  },
  {
   "cell_type": "code",
   "execution_count": 143,
   "metadata": {
    "id": "MCik70_3u3jK"
   },
   "outputs": [],
   "source": [
    "cpp_file = open(\"matmul_opencl.cpp\", \"w\")\n",
    "cpp_file.write(util)\n",
    "cpp_file.write(main)\n",
    "cpp_file.close()"
   ]
  },
  {
   "cell_type": "code",
   "execution_count": 121,
   "metadata": {
    "id": "9oWrmT3iu7fI"
   },
   "outputs": [],
   "source": [
    "opencl_kernel_file = open(\"matmul_opencl_kernel.cl\", \"w\")\n",
    "opencl_kernel_file.write(kernel)\n",
    "opencl_kernel_file.close()"
   ]
  },
  {
   "cell_type": "code",
   "execution_count": 144,
   "metadata": {
    "id": "GumvWhoOu9XO"
   },
   "outputs": [
    {
     "name": "stdout",
     "output_type": "stream",
     "text": [
      "\u001b[01m\u001b[Kmatmul_opencl.cpp:4:\u001b[m\u001b[K \u001b[01;35m\u001b[Kwarning: \u001b[m\u001b[K\"CL_TARGET_OPENCL_VERSION\" redefined\n",
      "    4 | #define CL_TARGET_OPENCL_VERSION 120\n",
      "      | \n",
      "In file included from \u001b[01m\u001b[K/usr/local/cuda/include/CL/cl.h:20\u001b[m\u001b[K,\n",
      "                 from \u001b[01m\u001b[K/usr/local/cuda/include/CL/opencl.h:24\u001b[m\u001b[K,\n",
      "                 from \u001b[01m\u001b[Kmatmul_opencl.cpp:2\u001b[m\u001b[K:\n",
      "\u001b[01m\u001b[K/usr/local/cuda/include/CL/cl_version.h:23:\u001b[m\u001b[K \u001b[01;36m\u001b[Knote: \u001b[m\u001b[Kthis is the location of the previous definition\n",
      "   23 | #define CL_TARGET_OPENCL_VERSION 300\n",
      "      | \n",
      "\u001b[01m\u001b[K/usr/local/cuda/include/CL/cl_version.h:22:104:\u001b[m\u001b[K \u001b[01;36m\u001b[Knote: \u001b[m\u001b[K‘\u001b[01m\u001b[K#pragma message: cl_version.h: CL_TARGET_OPENCL_VERSION is not defined. Defaulting to 300 (OpenCL 3.0)\u001b[m\u001b[K’\n",
      "   22 | _TARGET_OPENCL_VERSION is not defined. Defaulting to 300 (OpenCL 3.0)\"\u001b[01;36m\u001b[K)\u001b[m\u001b[K\n",
      "      |                                                                       \u001b[01;36m\u001b[K^\u001b[m\u001b[K\n",
      "\n"
     ]
    }
   ],
   "source": [
    "!g++ -o matmul matmul_opencl.cpp -I/usr/local/cuda/include -L/usr/local/cuda/lib64 -lOpenCL"
   ]
  },
  {
   "cell_type": "code",
   "execution_count": 145,
   "metadata": {},
   "outputs": [
    {
     "name": "stdout",
     "output_type": "stream",
     "text": [
      "Failed to get number of platforms: Unknown error\n"
     ]
    }
   ],
   "source": [
    "!./matmul"
   ]
  },
  {
   "cell_type": "code",
   "execution_count": 123,
   "metadata": {
    "colab": {
     "base_uri": "https://localhost:8080/"
    },
    "id": "zBQGhTo0vALX",
    "outputId": "ee0a58e1-ea74-4a42-94e9-430f6e163ab6"
   },
   "outputs": [
    {
     "name": "stdout",
     "output_type": "stream",
     "text": [
      "Failed to get number of platforms: Unknown error\n"
     ]
    }
   ],
   "source": [
    "!./matmul 2 2 2"
   ]
  },
  {
   "cell_type": "markdown",
   "metadata": {
    "id": "PwuY156J4BET"
   },
   "source": [
    "## Q1. Compare the result of parallel function to sequential function.\n",
    "\n",
    "TO-DO"
   ]
  },
  {
   "cell_type": "markdown",
   "metadata": {
    "id": "OUKDlL0438mS"
   },
   "source": [
    "## Q2. Try with different sizes of input.\n",
    "\n",
    "TO-DO"
   ]
  },
  {
   "cell_type": "markdown",
   "metadata": {
    "colab": {
     "base_uri": "https://localhost:8080/"
    },
    "id": "byBb5PwhlAaQ",
    "outputId": "ab196d7d-bce9-474d-a4c0-0b56e0abe8ab"
   },
   "source": [
    "## Q3. Using `matplotlib` to compare the correlation between input size and running time of sequential and parallel methods.\n",
    "\n",
    "TO-DO\n",
    "\n",
    "Suggestion: \n",
    "+ Basic: Run ./matmul multiple times with multiple sizes of data to get raw output -> Put the results in Python's lists and use matplotlib to plot.\n",
    "+ Elegant: Use Python to invoke ./matmul, parse different sizes of data as the arguments of ./matmul, collect program's results, process and plot it."
   ]
  },
  {
   "cell_type": "markdown",
   "metadata": {
    "id": "kvotBvKo3eCW"
   },
   "source": [
    "## Q4. Compare runtime and efficiency of OpenMP and OpenCL.\n",
    "\n",
    "TO-DO"
   ]
  },
  {
   "cell_type": "markdown",
   "metadata": {
    "id": "wPCpRL-_4n2t"
   },
   "source": [
    "## Q5. Edit your OpenCL solution to use local variable."
   ]
  },
  {
   "cell_type": "code",
   "execution_count": null,
   "metadata": {},
   "outputs": [],
   "source": [
    "kernel = \"\"\"\n",
    "    // TO-DO\n",
    "\"\"\""
   ]
  },
  {
   "cell_type": "code",
   "execution_count": null,
   "metadata": {},
   "outputs": [],
   "source": [
    "!g++ -o matmul matmul_opencl.cpp -I/usr/local/cuda/include -L/usr/local/cuda/lib64 -lOpenCL\n",
    "!./matmul 100 100 100"
   ]
  },
  {
   "cell_type": "markdown",
   "metadata": {
    "id": "ypumfGbz4sv_"
   },
   "source": [
    "## Q6. Compare the execution time of your global and local solutions, on different sizes of input.\n",
    "\n",
    "TO-DO (Same as Q3)"
   ]
  },
  {
   "cell_type": "markdown",
   "metadata": {},
   "source": [
    "# Task 2: Pixelate an Image"
   ]
  },
  {
   "cell_type": "code",
   "execution_count": null,
   "metadata": {},
   "outputs": [],
   "source": [
    "# Install libjpeg for JPEG manipulating in C/C++\n",
    "!apt-get install libjpeg-dev\n",
    "# Kindly check if libjpeg is installed\n",
    "!file /usr/include/jpeglib.h"
   ]
  },
  {
   "cell_type": "code",
   "execution_count": null,
   "metadata": {},
   "outputs": [],
   "source": [
    "# Prepare input image\n",
    "!wget \"https://raw.githubusercontent.com/opencv/opencv/refs/heads/4.x/samples/data/lena.jpg\" -O input.jpg"
   ]
  },
  {
   "cell_type": "code",
   "execution_count": null,
   "metadata": {},
   "outputs": [],
   "source": [
    "seq_func=\"\"\"\n",
    "#define BLOCK_SIZE 8\n",
    "// Sequential implementation of pixelization\n",
    "void pixelize_seq(ImageData& input, ImageData& output) {\n",
    "    for (int y = 0; y < input.height; y += BLOCK_SIZE) {\n",
    "        for (int x = 0; x < input.width; x += BLOCK_SIZE) {\n",
    "            // Calculate average color for block\n",
    "            int r = 0, g = 0, b = 0;\n",
    "            int count = 0;\n",
    "            \n",
    "            // Sum all pixels in block\n",
    "            for (int by = 0; by < BLOCK_SIZE && y + by < input.height; by++) {\n",
    "                for (int bx = 0; bx < BLOCK_SIZE && x + bx < input.width; bx++) {\n",
    "                    int idx = ((y + by) * input.width + (x + bx)) * input.channels;\n",
    "                    r += input.data[idx];\n",
    "                    g += input.data[idx + 1];\n",
    "                    b += input.data[idx + 2];\n",
    "                    count++;\n",
    "                }\n",
    "            }\n",
    "            \n",
    "            // Calculate average\n",
    "            r /= count;\n",
    "            g /= count;\n",
    "            b /= count;\n",
    "            \n",
    "            // Apply average color to block\n",
    "            for (int by = 0; by < BLOCK_SIZE && y + by < input.height; by++) {\n",
    "                for (int bx = 0; bx < BLOCK_SIZE && x + bx < input.width; bx++) {\n",
    "                    int idx = ((y + by) * input.width + (x + bx)) * input.channels;\n",
    "                    output.data[idx] = r;\n",
    "                    output.data[idx + 1] = g;\n",
    "                    output.data[idx + 2] = b;\n",
    "                }\n",
    "            }\n",
    "        }\n",
    "    }\n",
    "}\n",
    "\"\"\""
   ]
  },
  {
   "cell_type": "markdown",
   "metadata": {},
   "source": [
    "## Q1. Complete the program invoking pixelize_seq()"
   ]
  },
  {
   "cell_type": "code",
   "execution_count": null,
   "metadata": {},
   "outputs": [],
   "source": [
    "TO-DO"
   ]
  },
  {
   "cell_type": "code",
   "execution_count": null,
   "metadata": {},
   "outputs": [],
   "source": [
    "!g++ -o pixelate pixelate_opencl.cpp -I/usr/local/cuda/include -L/usr/local/cuda/lib64  -lOpenCL -ljpeg\n",
    "!./pixelate input.jpg"
   ]
  },
  {
   "cell_type": "markdown",
   "metadata": {},
   "source": [
    "|Input|Output|\n",
    "|---|---|\n",
    "|![input.jpg](./input.jpg \"input.jpg\")|![output_seq.jpg](./output_seq.jpg \"output_seq.jpg\")|"
   ]
  },
  {
   "cell_type": "markdown",
   "metadata": {},
   "source": [
    "## Q2. Implement pixelize_kernel() in `pixelize_kernel.cl`"
   ]
  },
  {
   "cell_type": "code",
   "execution_count": null,
   "metadata": {},
   "outputs": [],
   "source": [
    "TO-DO"
   ]
  },
  {
   "cell_type": "code",
   "execution_count": null,
   "metadata": {},
   "outputs": [],
   "source": [
    "!g++ -o pixelate pixelate_opencl.cpp -I/usr/local/cuda/include -L/usr/local/cuda/lib64  -lOpenCL -ljpeg\n",
    "!./pixelate input.jpg"
   ]
  },
  {
   "cell_type": "markdown",
   "metadata": {},
   "source": [
    "|Output Seq.|Output OCL|\n",
    "|---|---|\n",
    "|![output_seq.jpg](./output_seq.jpg \"output_seq.jpg\")|![output_ocl.jpg](./output_ocl.jpg \"output_ocl.jpg\")|"
   ]
  },
  {
   "cell_type": "markdown",
   "metadata": {},
   "source": [
    "## Q3. Using `matplotlib` to compare the correlation between input size and running time of sequential and parallel methods."
   ]
  },
  {
   "cell_type": "code",
   "execution_count": null,
   "metadata": {},
   "outputs": [],
   "source": [
    "TO-DO"
   ]
  },
  {
   "cell_type": "markdown",
   "metadata": {},
   "source": [
    "## Q4. If the kernel can be optimized, implement it and use `matplotlib` to plot the comparison."
   ]
  }
 ],
 "metadata": {
  "colab": {
   "provenance": []
  },
  "kernelspec": {
   "display_name": "Python 3 (ipykernel)",
   "language": "python",
   "name": "python3"
  },
  "language_info": {
   "codemirror_mode": {
    "name": "ipython",
    "version": 3
   },
   "file_extension": ".py",
   "mimetype": "text/x-python",
   "name": "python",
   "nbconvert_exporter": "python",
   "pygments_lexer": "ipython3",
   "version": "3.10.12"
  }
 },
 "nbformat": 4,
 "nbformat_minor": 4
}
