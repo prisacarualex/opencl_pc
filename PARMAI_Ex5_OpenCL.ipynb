{
  "cells": [
    {
      "cell_type": "markdown",
      "metadata": {
        "id": "view-in-github",
        "colab_type": "text"
      },
      "source": [
        "<a href=\"https://colab.research.google.com/github/prisacarualex/opencl_pc/blob/main/PARMAI_Ex5_OpenCL.ipynb\" target=\"_parent\"><img src=\"https://colab.research.google.com/assets/colab-badge.svg\" alt=\"Open In Colab\"/></a>"
      ]
    },
    {
      "cell_type": "markdown",
      "metadata": {
        "id": "wHkrkVF65O6O"
      },
      "source": [
        "# Environment Setup"
      ]
    },
    {
      "cell_type": "code",
      "execution_count": null,
      "metadata": {
        "colab": {
          "base_uri": "https://localhost:8080/"
        },
        "id": "eJmKhKcDuScI",
        "outputId": "165f7e57-eeb0-49b5-e3b7-29c71d9f4bb1"
      },
      "outputs": [
        {
          "output_type": "stream",
          "name": "stdout",
          "text": [
            "PRETTY_NAME=\"Ubuntu 22.04.4 LTS\"\n",
            "NAME=\"Ubuntu\"\n",
            "VERSION_ID=\"22.04\"\n",
            "VERSION=\"22.04.4 LTS (Jammy Jellyfish)\"\n",
            "VERSION_CODENAME=jammy\n",
            "ID=ubuntu\n",
            "ID_LIKE=debian\n",
            "HOME_URL=\"https://www.ubuntu.com/\"\n",
            "SUPPORT_URL=\"https://help.ubuntu.com/\"\n",
            "BUG_REPORT_URL=\"https://bugs.launchpad.net/ubuntu/\"\n",
            "PRIVACY_POLICY_URL=\"https://www.ubuntu.com/legal/terms-and-policies/privacy-policy\"\n",
            "UBUNTU_CODENAME=jammy\n"
          ]
        }
      ],
      "source": [
        "# Check Linux distro. and its version\n",
        "!cat /etc/os-release"
      ]
    },
    {
      "cell_type": "code",
      "source": [
        "!nvidia-smi"
      ],
      "metadata": {
        "id": "r8-MQ8zT5SvW",
        "outputId": "bd317f68-907a-4d4e-8674-2f143db7b1e4",
        "colab": {
          "base_uri": "https://localhost:8080/"
        }
      },
      "execution_count": null,
      "outputs": [
        {
          "output_type": "stream",
          "name": "stdout",
          "text": [
            "Mon Feb 10 17:27:54 2025       \n",
            "+-----------------------------------------------------------------------------------------+\n",
            "| NVIDIA-SMI 550.54.15              Driver Version: 550.54.15      CUDA Version: 12.4     |\n",
            "|-----------------------------------------+------------------------+----------------------+\n",
            "| GPU  Name                 Persistence-M | Bus-Id          Disp.A | Volatile Uncorr. ECC |\n",
            "| Fan  Temp   Perf          Pwr:Usage/Cap |           Memory-Usage | GPU-Util  Compute M. |\n",
            "|                                         |                        |               MIG M. |\n",
            "|=========================================+========================+======================|\n",
            "|   0  Tesla T4                       Off |   00000000:00:04.0 Off |                    0 |\n",
            "| N/A   54C    P8             12W /   70W |       0MiB /  15360MiB |      0%      Default |\n",
            "|                                         |                        |                  N/A |\n",
            "+-----------------------------------------+------------------------+----------------------+\n",
            "                                                                                         \n",
            "+-----------------------------------------------------------------------------------------+\n",
            "| Processes:                                                                              |\n",
            "|  GPU   GI   CI        PID   Type   Process name                              GPU Memory |\n",
            "|        ID   ID                                                               Usage      |\n",
            "|=========================================================================================|\n",
            "|  No running processes found                                                             |\n",
            "+-----------------------------------------------------------------------------------------+\n"
          ]
        }
      ]
    },
    {
      "cell_type": "code",
      "source": [
        "!sudo apt update"
      ],
      "metadata": {
        "id": "tpvkdsCl55ZP",
        "outputId": "1dde82de-1e9b-4fbb-f9eb-49ffbb85366f",
        "colab": {
          "base_uri": "https://localhost:8080/"
        }
      },
      "execution_count": null,
      "outputs": [
        {
          "output_type": "stream",
          "name": "stdout",
          "text": [
            "\u001b[33m\r0% [Working]\u001b[0m\r            \rGet:1 https://cloud.r-project.org/bin/linux/ubuntu jammy-cran40/ InRelease [3,632 B]\n",
            "Get:2 https://developer.download.nvidia.com/compute/cuda/repos/ubuntu2204/x86_64  InRelease [1,581 B]\n",
            "Get:3 https://cloud.r-project.org/bin/linux/ubuntu jammy-cran40/ Packages [66.7 kB]\n",
            "Get:4 https://developer.download.nvidia.com/compute/cuda/repos/ubuntu2204/x86_64  Packages [1,309 kB]\n",
            "Hit:5 http://archive.ubuntu.com/ubuntu jammy InRelease\n",
            "Get:6 http://security.ubuntu.com/ubuntu jammy-security InRelease [129 kB]\n",
            "Get:7 http://archive.ubuntu.com/ubuntu jammy-updates InRelease [128 kB]\n",
            "Get:8 https://r2u.stat.illinois.edu/ubuntu jammy InRelease [6,555 B]\n",
            "Hit:9 https://ppa.launchpadcontent.net/deadsnakes/ppa/ubuntu jammy InRelease\n",
            "Get:10 https://r2u.stat.illinois.edu/ubuntu jammy/main all Packages [8,663 kB]\n",
            "Get:11 http://security.ubuntu.com/ubuntu jammy-security/main amd64 Packages [2,606 kB]\n",
            "Get:12 http://archive.ubuntu.com/ubuntu jammy-backports InRelease [127 kB]\n",
            "Get:13 https://ppa.launchpadcontent.net/graphics-drivers/ppa/ubuntu jammy InRelease [24.3 kB]\n",
            "Hit:14 https://ppa.launchpadcontent.net/ubuntugis/ppa/ubuntu jammy InRelease\n",
            "Get:15 http://archive.ubuntu.com/ubuntu jammy-updates/universe amd64 Packages [1,523 kB]\n",
            "Get:16 https://ppa.launchpadcontent.net/graphics-drivers/ppa/ubuntu jammy/main amd64 Packages [57.8 kB]\n",
            "Get:17 http://archive.ubuntu.com/ubuntu jammy-updates/restricted amd64 Packages [3,748 kB]\n",
            "Get:18 http://security.ubuntu.com/ubuntu jammy-security/universe amd64 Packages [1,230 kB]\n",
            "Get:19 http://archive.ubuntu.com/ubuntu jammy-updates/main amd64 Packages [2,910 kB]\n",
            "Get:20 https://r2u.stat.illinois.edu/ubuntu jammy/main amd64 Packages [2,653 kB]\n",
            "Fetched 25.2 MB in 4s (6,076 kB/s)\n",
            "Reading package lists... Done\n",
            "Building dependency tree... Done\n",
            "Reading state information... Done\n",
            "25 packages can be upgraded. Run 'apt list --upgradable' to see them.\n",
            "\u001b[1;33mW: \u001b[0mSkipping acquire of configured file 'main/source/Sources' as repository 'https://r2u.stat.illinois.edu/ubuntu jammy InRelease' does not seem to provide it (sources.list entry misspelt?)\u001b[0m\n"
          ]
        }
      ]
    },
    {
      "cell_type": "code",
      "source": [
        "!sudo apt purge *nvidia* -y"
      ],
      "metadata": {
        "id": "RZftwtnP58O5",
        "outputId": "9a20654a-795b-4ffb-c42a-d9b4559e5ef9",
        "colab": {
          "base_uri": "https://localhost:8080/"
        }
      },
      "execution_count": null,
      "outputs": [
        {
          "output_type": "stream",
          "name": "stdout",
          "text": [
            "Waiting for cache lock: Could not get lock /var/lib/dpkg/lock-frontend. It is held by process 1748 (apt)      \n",
            "Waiting for cache lock: Could not get lock /var/lib/dpkg/lock-frontend. It is held by process 1748 (apt)      \n",
            "Waiting for cache lock: Could not get lock /var/lib/dpkg/lock-frontend. It is held by process 1748 (apt)      \n",
            "Waiting for cache lock: Could not get lock /var/lib/dpkg/lock-frontend. It is held by process 1748 (apt)      \n",
            "Waiting for cache lock: Could not get lock /var/lib/dpkg/lock-frontend. It is held by process 1748 (apt)      \n",
            "Waiting for cache lock: Could not get lock /var/lib/dpkg/lock-frontend. It is held by process 1748 (apt)      \n",
            "Waiting for cache lock: Could not get lock /var/lib/dpkg/lock-frontend. It is held by process 1748 (apt)      \n",
            "Waiting for cache lock: Could not get lock /var/lib/dpkg/lock-frontend. It is held by process 1748 (apt)      \n",
            "Waiting for cache lock: Could not get lock /var/lib/dpkg/lock-frontend. It is held by process 1748 (apt)      \n",
            "Waiting for cache lock: Could not get lock /var/lib/dpkg/lock-frontend. It is held by process 1748 (apt)      \n",
            "Waiting for cache lock: Could not get lock /var/lib/dpkg/lock-frontend. It is held by process 1748 (apt)       \n",
            "Waiting for cache lock: Could not get lock /var/lib/dpkg/lock-frontend. It is held by process 1748 (apt)       \n",
            "Waiting for cache lock: Could not get lock /var/lib/dpkg/lock-frontend. It is held by process 1748 (apt)       \n",
            "Waiting for cache lock: Could not get lock /var/lib/dpkg/lock-frontend. It is held by process 1748 (apt)       \n",
            "Waiting for cache lock: Could not get lock /var/lib/dpkg/lock-frontend. It is held by process 1748 (apt)       \n",
            "Waiting for cache lock: Could not get lock /var/lib/dpkg/lock-frontend. It is held by process 1748 (apt)       \n",
            "Waiting for cache lock: Could not get lock /var/lib/dpkg/lock-frontend. It is held by process 1748 (apt)       \n",
            "Waiting for cache lock: Could not get lock /var/lib/dpkg/lock-frontend. It is held by process 1748 (apt)       \n",
            "Waiting for cache lock: Could not get lock /var/lib/dpkg/lock-frontend. It is held by process 1748 (apt)       \n",
            "Waiting for cache lock: Could not get lock /var/lib/dpkg/lock-frontend. It is held by process 1748 (apt)       \n",
            "Waiting for cache lock: Could not get lock /var/lib/dpkg/lock-frontend. It is held by process 1748 (apt)       \n",
            "Waiting for cache lock: Could not get lock /var/lib/dpkg/lock-frontend. It is held by process 1748 (apt)       \n",
            "Waiting for cache lock: Could not get lock /var/lib/dpkg/lock-frontend. It is held by process 1748 (apt)       \n",
            "Waiting for cache lock: Could not get lock /var/lib/dpkg/lock-frontend. It is held by process 1748 (apt)       \n",
            "Waiting for cache lock: Could not get lock /var/lib/dpkg/lock-frontend. It is held by process 1748 (apt)       \n",
            "Waiting for cache lock: Could not get lock /var/lib/dpkg/lock-frontend. It is held by process 1748 (apt)       \n",
            "Waiting for cache lock: Could not get lock /var/lib/dpkg/lock-frontend. It is held by process 1748 (apt)       \n",
            "Waiting for cache lock: Could not get lock /var/lib/dpkg/lock-frontend. It is held by process 1748 (apt)       \n",
            "Waiting for cache lock: Could not get lock /var/lib/dpkg/lock-frontend. It is held by process 1748 (apt)       \n",
            "Waiting for cache lock: Could not get lock /var/lib/dpkg/lock-frontend. It is held by process 1748 (apt)       \n",
            "Waiting for cache lock: Could not get lock /var/lib/dpkg/lock-frontend. It is held by process 1748 (apt)       \n",
            "Waiting for cache lock: Could not get lock /var/lib/dpkg/lock-frontend. It is held by process 1748 (apt)       \n",
            "Waiting for cache lock: Could not get lock /var/lib/dpkg/lock-frontend. It is held by process 1748 (apt)       \n",
            "Waiting for cache lock: Could not get lock /var/lib/dpkg/lock-frontend. It is held by process 1748 (apt)       \n",
            "Waiting for cache lock: Could not get lock /var/lib/dpkg/lock-frontend. It is held by process 1748 (apt)       \n",
            "Waiting for cache lock: Could not get lock /var/lib/dpkg/lock-frontend. It is held by process 1748 (apt)       \n",
            "Waiting for cache lock: Could not get lock /var/lib/dpkg/lock-frontend. It is held by process 1748 (apt)       \n",
            "Waiting for cache lock: Could not get lock /var/lib/dpkg/lock-frontend. It is held by process 1748 (apt)       \n",
            "Waiting for cache lock: Could not get lock /var/lib/dpkg/lock-frontend. It is held by process 1748 (apt)       \n",
            "Waiting for cache lock: Could not get lock /var/lib/dpkg/lock-frontend. It is held by process 1748 (apt)       \n",
            "Waiting for cache lock: Could not get lock /var/lib/dpkg/lock-frontend. It is held by process 1748 (apt)       \n",
            "Waiting for cache lock: Could not get lock /var/lib/dpkg/lock-frontend. It is held by process 1748 (apt)       \n",
            "Waiting for cache lock: Could not get lock /var/lib/dpkg/lock-frontend. It is held by process 1748 (apt)       \n",
            "Waiting for cache lock: Could not get lock /var/lib/dpkg/lock-frontend. It is held by process 1748 (apt)       \n",
            "Waiting for cache lock: Could not get lock /var/lib/dpkg/lock-frontend. It is held by process 1748 (apt)       \n",
            "Waiting for cache lock: Could not get lock /var/lib/dpkg/lock-frontend. It is held by process 1748 (apt)       \n",
            "Waiting for cache lock: Could not get lock /var/lib/dpkg/lock-frontend. It is held by process 1748 (apt)       \n",
            "Waiting for cache lock: Could not get lock /var/lib/dpkg/lock-frontend. It is held by process 1748 (apt)       \n",
            "Waiting for cache lock: Could not get lock /var/lib/dpkg/lock-frontend. It is held by process 1748 (apt)       \n",
            "Waiting for cache lock: Could not get lock /var/lib/dpkg/lock-frontend. It is held by process 1748 (apt)       \n",
            "Waiting for cache lock: Could not get lock /var/lib/dpkg/lock-frontend. It is held by process 1748 (apt)       \n",
            "Waiting for cache lock: Could not get lock /var/lib/dpkg/lock-frontend. It is held by process 1748 (apt)       \n",
            "Waiting for cache lock: Could not get lock /var/lib/dpkg/lock-frontend. It is held by process 1748 (apt)       \n",
            "Waiting for cache lock: Could not get lock /var/lib/dpkg/lock-frontend. It is held by process 1748 (apt)       \n",
            "Waiting for cache lock: Could not get lock /var/lib/dpkg/lock-frontend. It is held by process 1748 (apt)       \n",
            "Waiting for cache lock: Could not get lock /var/lib/dpkg/lock-frontend. It is held by process 1748 (apt)       \n",
            "Waiting for cache lock: Could not get lock /var/lib/dpkg/lock-frontend. It is held by process 1748 (apt)       \n",
            "Waiting for cache lock: Could not get lock /var/lib/dpkg/lock-frontend. It is held by process 1748 (apt)       \n",
            "Waiting for cache lock: Could not get lock /var/lib/dpkg/lock-frontend. It is held by process 1748 (apt)       \n",
            "Waiting for cache lock: Could not get lock /var/lib/dpkg/lock-frontend. It is held by process 1748 (apt)       \n",
            "Waiting for cache lock: Could not get lock /var/lib/dpkg/lock-frontend. It is held by process 1748 (apt)       \n",
            "Waiting for cache lock: Could not get lock /var/lib/dpkg/lock-frontend. It is held by process 1748 (apt)       \n",
            "Waiting for cache lock: Could not get lock /var/lib/dpkg/lock-frontend. It is held by process 1748 (apt)       \n",
            "Waiting for cache lock: Could not get lock /var/lib/dpkg/lock-frontend. It is held by process 1748 (apt)       \n",
            "Waiting for cache lock: Could not get lock /var/lib/dpkg/lock-frontend. It is held by process 1748 (apt)       \n",
            "Waiting for cache lock: Could not get lock /var/lib/dpkg/lock-frontend. It is held by process 1748 (apt)       \n",
            "Waiting for cache lock: Could not get lock /var/lib/dpkg/lock-frontend. It is held by process 1748 (apt)       \n",
            "Waiting for cache lock: Could not get lock /var/lib/dpkg/lock-frontend. It is held by process 1748 (apt)       \n",
            "Waiting for cache lock: Could not get lock /var/lib/dpkg/lock-frontend. It is held by process 1748 (apt)       \n",
            "Waiting for cache lock: Could not get lock /var/lib/dpkg/lock-frontend. It is held by process 1748 (apt)       \n",
            "Waiting for cache lock: Could not get lock /var/lib/dpkg/lock-frontend. It is held by process 1748 (apt)       \n",
            "Waiting for cache lock: Could not get lock /var/lib/dpkg/lock-frontend. It is held by process 1748 (apt)       \n",
            "Waiting for cache lock: Could not get lock /var/lib/dpkg/lock-frontend. It is held by process 1748 (apt)       \n",
            "Waiting for cache lock: Could not get lock /var/lib/dpkg/lock-frontend. It is held by process 1748 (apt)       \n",
            "Waiting for cache lock: Could not get lock /var/lib/dpkg/lock-frontend. It is held by process 1748 (apt)       \n",
            "Waiting for cache lock: Could not get lock /var/lib/dpkg/lock-frontend. It is held by process 1748 (apt)       \n",
            "Waiting for cache lock: Could not get lock /var/lib/dpkg/lock-frontend. It is held by process 1748 (apt)       \n",
            "Waiting for cache lock: Could not get lock /var/lib/dpkg/lock-frontend. It is held by process 1748 (apt)       \n",
            "Waiting for cache lock: Could not get lock /var/lib/dpkg/lock-frontend. It is held by process 1748 (apt)       \n",
            "Waiting for cache lock: Could not get lock /var/lib/dpkg/lock-frontend. It is held by process 1748 (apt)       \n",
            "Waiting for cache lock: Could not get lock /var/lib/dpkg/lock-frontend. It is held by process 1748 (apt)       \n",
            "Waiting for cache lock: Could not get lock /var/lib/dpkg/lock-frontend. It is held by process 1748 (apt)       \n",
            "Waiting for cache lock: Could not get lock /var/lib/dpkg/lock-frontend. It is held by process 1748 (apt)       \n",
            "Waiting for cache lock: Could not get lock /var/lib/dpkg/lock-frontend. It is held by process 1748 (apt)       \n",
            "Waiting for cache lock: Could not get lock /var/lib/dpkg/lock-frontend. It is held by process 1748 (apt)       \n",
            "Waiting for cache lock: Could not get lock /var/lib/dpkg/lock-frontend. It is held by process 1748 (apt)       \n",
            "Waiting for cache lock: Could not get lock /var/lib/dpkg/lock-frontend. It is held by process 1748 (apt)       \n",
            "Waiting for cache lock: Could not get lock /var/lib/dpkg/lock-frontend. It is held by process 1748 (apt)       \n",
            "Waiting for cache lock: Could not get lock /var/lib/dpkg/lock-frontend. It is held by process 1748 (apt)       \n",
            "Waiting for cache lock: Could not get lock /var/lib/dpkg/lock-frontend. It is held by process 1748 (apt)       \n",
            "Waiting for cache lock: Could not get lock /var/lib/dpkg/lock-frontend. It is held by process 1748 (apt)       \n",
            "Waiting for cache lock: Could not get lock /var/lib/dpkg/lock-frontend. It is held by process 1748 (apt)       \n",
            "Waiting for cache lock: Could not get lock /var/lib/dpkg/lock-frontend. It is held by process 1748 (apt)       \n",
            "Waiting for cache lock: Could not get lock /var/lib/dpkg/lock-frontend. It is held by process 1748 (apt)       \n",
            "Waiting for cache lock: Could not get lock /var/lib/dpkg/lock-frontend. It is held by process 1748 (apt)       \n",
            "Waiting for cache lock: Could not get lock /var/lib/dpkg/lock-frontend. It is held by process 1748 (apt)       \n",
            "Waiting for cache lock: Could not get lock /var/lib/dpkg/lock-frontend. It is held by process 1748 (apt)       \n",
            "Waiting for cache lock: Could not get lock /var/lib/dpkg/lock-frontend. It is held by process 1748 (apt)       \n",
            "Waiting for cache lock: Could not get lock /var/lib/dpkg/lock-frontend. It is held by process 1748 (apt)       \n",
            "Waiting for cache lock: Could not get lock /var/lib/dpkg/lock-frontend. It is held by process 1748 (apt)       \n",
            "Waiting for cache lock: Could not get lock /var/lib/dpkg/lock-frontend. It is held by process 1748 (apt)        \n",
            "Waiting for cache lock: Could not get lock /var/lib/dpkg/lock-frontend. It is held by process 1748 (apt)        \n",
            "Waiting for cache lock: Could not get lock /var/lib/dpkg/lock-frontend. It is held by process 1748 (apt)        \n",
            "Waiting for cache lock: Could not get lock /var/lib/dpkg/lock-frontend. It is held by process 1748 (apt)        \n",
            "Waiting for cache lock: Could not get lock /var/lib/dpkg/lock-frontend. It is held by process 1748 (apt)        \n",
            "Waiting for cache lock: Could not get lock /var/lib/dpkg/lock-frontend. It is held by process 1748 (apt)        \n",
            "Waiting for cache lock: Could not get lock /var/lib/dpkg/lock-frontend. It is held by process 1748 (apt)        \n",
            "Waiting for cache lock: Could not get lock /var/lib/dpkg/lock-frontend. It is held by process 1748 (apt)        \n",
            "Waiting for cache lock: Could not get lock /var/lib/dpkg/lock-frontend. It is held by process 1748 (apt)        \n",
            "Waiting for cache lock: Could not get lock /var/lib/dpkg/lock-frontend. It is held by process 1748 (apt)        \n",
            "Waiting for cache lock: Could not get lock /var/lib/dpkg/lock-frontend. It is held by process 1748 (apt)        \n",
            "Waiting for cache lock: Could not get lock /var/lib/dpkg/lock-frontend. It is held by process 1748 (apt)        \n",
            "Waiting for cache lock: Could not get lock /var/lib/dpkg/lock-frontend. It is held by process 1748 (apt)        \n",
            "Waiting for cache lock: Could not get lock /var/lib/dpkg/lock-frontend. It is held by process 1748 (apt)        \n",
            "Waiting for cache lock: Could not get lock /var/lib/dpkg/lock-frontend. It is held by process 1748 (apt)        \n",
            "Waiting for cache lock: Could not get lock /var/lib/dpkg/lock-frontend. It is held by process 1748 (apt)        \n",
            "Waiting for cache lock: Could not get lock /var/lib/dpkg/lock-frontend. It is held by process 1748 (apt)        \n",
            "Waiting for cache lock: Could not get lock /var/lib/dpkg/lock-frontend. It is held by process 1748 (apt)        \n",
            "Waiting for cache lock: Could not get lock /var/lib/dpkg/lock-frontend. It is held by process 1748 (apt)        \n",
            "Waiting for cache lock: Could not get lock /var/lib/dpkg/lock-frontend. It is held by process 1748 (apt)        \n",
            "Waiting for cache lock: Could not get lock /var/lib/dpkg/lock-frontend. It is held by process 1748 (apt)        \n",
            "Waiting for cache lock: Could not get lock /var/lib/dpkg/lock-frontend. It is held by process 1748 (apt)        \n",
            "Waiting for cache lock: Could not get lock /var/lib/dpkg/lock-frontend. It is held by process 1748 (apt)        \n",
            "Waiting for cache lock: Could not get lock /var/lib/dpkg/lock-frontend. It is held by process 1748 (apt)        \n",
            "Waiting for cache lock: Could not get lock /var/lib/dpkg/lock-frontend. It is held by process 1748 (apt)        \n",
            "Waiting for cache lock: Could not get lock /var/lib/dpkg/lock-frontend. It is held by process 1748 (apt)        \n",
            "Waiting for cache lock: Could not get lock /var/lib/dpkg/lock-frontend. It is held by process 1748 (apt)        \n",
            "Waiting for cache lock: Could not get lock /var/lib/dpkg/lock-frontend. It is held by process 1748 (apt)        \n",
            "Waiting for cache lock: Could not get lock /var/lib/dpkg/lock-frontend. It is held by process 1748 (apt)        \n",
            "Waiting for cache lock: Could not get lock /var/lib/dpkg/lock-frontend. It is held by process 1748 (apt)        \n",
            "Waiting for cache lock: Could not get lock /var/lib/dpkg/lock-frontend. It is held by process 1748 (apt)        \n",
            "Waiting for cache lock: Could not get lock /var/lib/dpkg/lock-frontend. It is held by process 1748 (apt)        \n",
            "Waiting for cache lock: Could not get lock /var/lib/dpkg/lock-frontend. It is held by process 1748 (apt)        \n",
            "Waiting for cache lock: Could not get lock /var/lib/dpkg/lock-frontend. It is held by process 1748 (apt)        \n",
            "Waiting for cache lock: Could not get lock /var/lib/dpkg/lock-frontend. It is held by process 1748 (apt)        \n",
            "Waiting for cache lock: Could not get lock /var/lib/dpkg/lock-frontend. It is held by process 1748 (apt)        \n",
            "Waiting for cache lock: Could not get lock /var/lib/dpkg/lock-frontend. It is held by process 1748 (apt)        \n",
            "Waiting for cache lock: Could not get lock /var/lib/dpkg/lock-frontend. It is held by process 1748 (apt)        \n",
            "Waiting for cache lock: Could not get lock /var/lib/dpkg/lock-frontend. It is held by process 1748 (apt)        \n",
            "Waiting for cache lock: Could not get lock /var/lib/dpkg/lock-frontend. It is held by process 1748 (apt)        \n",
            "Waiting for cache lock: Could not get lock /var/lib/dpkg/lock-frontend. It is held by process 1748 (apt)        \n",
            "Waiting for cache lock: Could not get lock /var/lib/dpkg/lock-frontend. It is held by process 1748 (apt)        \n",
            "Waiting for cache lock: Could not get lock /var/lib/dpkg/lock-frontend. It is held by process 1748 (apt)        \n",
            "Waiting for cache lock: Could not get lock /var/lib/dpkg/lock-frontend. It is held by process 1748 (apt)        \n",
            "Waiting for cache lock: Could not get lock /var/lib/dpkg/lock-frontend. It is held by process 1748 (apt)        \n",
            "Waiting for cache lock: Could not get lock /var/lib/dpkg/lock-frontend. It is held by process 1748 (apt)        \n",
            "Waiting for cache lock: Could not get lock /var/lib/dpkg/lock-frontend. It is held by process 1748 (apt)        \n",
            "Waiting for cache lock: Could not get lock /var/lib/dpkg/lock-frontend. It is held by process 1748 (apt)        \n",
            "Waiting for cache lock: Could not get lock /var/lib/dpkg/lock-frontend. It is held by process 1748 (apt)        \n",
            "Waiting for cache lock: Could not get lock /var/lib/dpkg/lock-frontend. It is held by process 1748 (apt)        \n",
            "Waiting for cache lock: Could not get lock /var/lib/dpkg/lock-frontend. It is held by process 1748 (apt)        \n",
            "Waiting for cache lock: Could not get lock /var/lib/dpkg/lock-frontend. It is held by process 1748 (apt)        \n",
            "Waiting for cache lock: Could not get lock /var/lib/dpkg/lock-frontend. It is held by process 1748 (apt)        \n",
            "Waiting for cache lock: Could not get lock /var/lib/dpkg/lock-frontend. It is held by process 1748 (apt)        \n",
            "Waiting for cache lock: Could not get lock /var/lib/dpkg/lock-frontend. It is held by process 1748 (apt)        \n",
            "Waiting for cache lock: Could not get lock /var/lib/dpkg/lock-frontend. It is held by process 1748 (apt)        \n",
            "Waiting for cache lock: Could not get lock /var/lib/dpkg/lock-frontend. It is held by process 1748 (apt)        \n",
            "Waiting for cache lock: Could not get lock /var/lib/dpkg/lock-frontend. It is held by process 1748 (apt)        \n",
            "Waiting for cache lock: Could not get lock /var/lib/dpkg/lock-frontend. It is held by process 1748 (apt)        \n",
            "Waiting for cache lock: Could not get lock /var/lib/dpkg/lock-frontend. It is held by process 1748 (apt)        \n",
            "Waiting for cache lock: Could not get lock /var/lib/dpkg/lock-frontend. It is held by process 1748 (apt)        \n",
            "Waiting for cache lock: Could not get lock /var/lib/dpkg/lock-frontend. It is held by process 1748 (apt)        \n",
            "Waiting for cache lock: Could not get lock /var/lib/dpkg/lock-frontend. It is held by process 1748 (apt)        \n",
            "Waiting for cache lock: Could not get lock /var/lib/dpkg/lock-frontend. It is held by process 1748 (apt)        \n",
            "Waiting for cache lock: Could not get lock /var/lib/dpkg/lock-frontend. It is held by process 1748 (apt)        \n",
            "Waiting for cache lock: Could not get lock /var/lib/dpkg/lock-frontend. It is held by process 1748 (apt)        \n",
            "Waiting for cache lock: Could not get lock /var/lib/dpkg/lock-frontend. It is held by process 1748 (apt)        \n",
            "Waiting for cache lock: Could not get lock /var/lib/dpkg/lock-frontend. It is held by process 1748 (apt)        \n",
            "Waiting for cache lock: Could not get lock /var/lib/dpkg/lock-frontend. It is held by process 1748 (apt)        \n",
            "Waiting for cache lock: Could not get lock /var/lib/dpkg/lock-frontend. It is held by process 1748 (apt)        \n",
            "Waiting for cache lock: Could not get lock /var/lib/dpkg/lock-frontend. It is held by process 1748 (apt)        \n",
            "Waiting for cache lock: Could not get lock /var/lib/dpkg/lock-frontend. It is held by process 1748 (apt)        \n",
            "Waiting for cache lock: Could not get lock /var/lib/dpkg/lock-frontend. It is held by process 1748 (apt)        \n",
            "Waiting for cache lock: Could not get lock /var/lib/dpkg/lock-frontend. It is held by process 1748 (apt)        \n",
            "Waiting for cache lock: Could not get lock /var/lib/dpkg/lock-frontend. It is held by process 1748 (apt)        \n",
            "Waiting for cache lock: Could not get lock /var/lib/dpkg/lock-frontend. It is held by process 1748 (apt)        \n",
            "Waiting for cache lock: Could not get lock /var/lib/dpkg/lock-frontend. It is held by process 1748 (apt)        \n",
            "Waiting for cache lock: Could not get lock /var/lib/dpkg/lock-frontend. It is held by process 1748 (apt)        \n",
            "Waiting for cache lock: Could not get lock /var/lib/dpkg/lock-frontend. It is held by process 1748 (apt)        \n",
            "Waiting for cache lock: Could not get lock /var/lib/dpkg/lock-frontend. It is held by process 1748 (apt)        \n",
            "Waiting for cache lock: Could not get lock /var/lib/dpkg/lock-frontend. It is held by process 1748 (apt)        \n",
            "Waiting for cache lock: Could not get lock /var/lib/dpkg/lock-frontend. It is held by process 1748 (apt)        \n",
            "Waiting for cache lock: Could not get lock /var/lib/dpkg/lock-frontend. It is held by process 1748 (apt)        \n",
            "Waiting for cache lock: Could not get lock /var/lib/dpkg/lock-frontend. It is held by process 1748 (apt)        \n",
            "Waiting for cache lock: Could not get lock /var/lib/dpkg/lock-frontend. It is held by process 1748 (apt)        \n",
            "Waiting for cache lock: Could not get lock /var/lib/dpkg/lock-frontend. It is held by process 1748 (apt)        \n",
            "Waiting for cache lock: Could not get lock /var/lib/dpkg/lock-frontend. It is held by process 1748 (apt)        \n",
            "Waiting for cache lock: Could not get lock /var/lib/dpkg/lock-frontend. It is held by process 1748 (apt)        \n",
            "Waiting for cache lock: Could not get lock /var/lib/dpkg/lock-frontend. It is held by process 1748 (apt)        \n",
            "Waiting for cache lock: Could not get lock /var/lib/dpkg/lock-frontend. It is held by process 1748 (apt)        \n",
            "Waiting for cache lock: Could not get lock /var/lib/dpkg/lock-frontend. It is held by process 1748 (apt)        \n",
            "Waiting for cache lock: Could not get lock /var/lib/dpkg/lock-frontend. It is held by process 1748 (apt)        \n",
            "Waiting for cache lock: Could not get lock /var/lib/dpkg/lock-frontend. It is held by process 1748 (apt)        \n",
            "Waiting for cache lock: Could not get lock /var/lib/dpkg/lock-frontend. It is held by process 1748 (apt)        \n",
            "Waiting for cache lock: Could not get lock /var/lib/dpkg/lock-frontend. It is held by process 1748 (apt)        \n",
            "Waiting for cache lock: Could not get lock /var/lib/dpkg/lock-frontend. It is held by process 1748 (apt)        \n",
            "Waiting for cache lock: Could not get lock /var/lib/dpkg/lock-frontend. It is held by process 1748 (apt)        \n",
            "Waiting for cache lock: Could not get lock /var/lib/dpkg/lock-frontend. It is held by process 1748 (apt)        \n",
            "Waiting for cache lock: Could not get lock /var/lib/dpkg/lock-frontend. It is held by process 1748 (apt)        \n",
            "Waiting for cache lock: Could not get lock /var/lib/dpkg/lock-frontend. It is held by process 1748 (apt)        \n",
            "Waiting for cache lock: Could not get lock /var/lib/dpkg/lock-frontend. It is held by process 1748 (apt)        \n",
            "Waiting for cache lock: Could not get lock /var/lib/dpkg/lock-frontend. It is held by process 1748 (apt)        \n",
            "Waiting for cache lock: Could not get lock /var/lib/dpkg/lock-frontend. It is held by process 1748 (apt)        \n",
            "Waiting for cache lock: Could not get lock /var/lib/dpkg/lock-frontend. It is held by process 1748 (apt)        \n",
            "Waiting for cache lock: Could not get lock /var/lib/dpkg/lock-frontend. It is held by process 1748 (apt)        \n",
            "Waiting for cache lock: Could not get lock /var/lib/dpkg/lock-frontend. It is held by process 1748 (apt)        \n",
            "Waiting for cache lock: Could not get lock /var/lib/dpkg/lock-frontend. It is held by process 1748 (apt)        \n",
            "Waiting for cache lock: Could not get lock /var/lib/dpkg/lock-frontend. It is held by process 1748 (apt)        \n",
            "Waiting for cache lock: Could not get lock /var/lib/dpkg/lock-frontend. It is held by process 1748 (apt)        \n",
            "Waiting for cache lock: Could not get lock /var/lib/dpkg/lock-frontend. It is held by process 1748 (apt)        \n",
            "Waiting for cache lock: Could not get lock /var/lib/dpkg/lock-frontend. It is held by process 1748 (apt)        \n",
            "Waiting for cache lock: Could not get lock /var/lib/dpkg/lock-frontend. It is held by process 1748 (apt)        \n",
            "Waiting for cache lock: Could not get lock /var/lib/dpkg/lock-frontend. It is held by process 1748 (apt)        \n",
            "Waiting for cache lock: Could not get lock /var/lib/dpkg/lock-frontend. It is held by process 1748 (apt)        \n",
            "Waiting for cache lock: Could not get lock /var/lib/dpkg/lock-frontend. It is held by process 1748 (apt)        \n",
            "Waiting for cache lock: Could not get lock /var/lib/dpkg/lock-frontend. It is held by process 1748 (apt)        \n",
            "Waiting for cache lock: Could not get lock /var/lib/dpkg/lock-frontend. It is held by process 1748 (apt)        \n",
            "Waiting for cache lock: Could not get lock /var/lib/dpkg/lock-frontend. It is held by process 1748 (apt)        \n",
            "Waiting for cache lock: Could not get lock /var/lib/dpkg/lock-frontend. It is held by process 1748 (apt)        \n",
            "Waiting for cache lock: Could not get lock /var/lib/dpkg/lock-frontend. It is held by process 1748 (apt)        \n",
            "Waiting for cache lock: Could not get lock /var/lib/dpkg/lock-frontend. It is held by process 1748 (apt)        \n",
            "Waiting for cache lock: Could not get lock /var/lib/dpkg/lock-frontend. It is held by process 1748 (apt)        \n",
            "Waiting for cache lock: Could not get lock /var/lib/dpkg/lock-frontend. It is held by process 1748 (apt)        \n",
            "Waiting for cache lock: Could not get lock /var/lib/dpkg/lock-frontend. It is held by process 1748 (apt)        \n",
            "Waiting for cache lock: Could not get lock /var/lib/dpkg/lock-frontend. It is held by process 1748 (apt)        \n",
            "Waiting for cache lock: Could not get lock /var/lib/dpkg/lock-frontend. It is held by process 1748 (apt)        \n",
            "Waiting for cache lock: Could not get lock /var/lib/dpkg/lock-frontend. It is held by process 1748 (apt)        \n",
            "Waiting for cache lock: Could not get lock /var/lib/dpkg/lock-frontend. It is held by process 1748 (apt)        \n",
            "Waiting for cache lock: Could not get lock /var/lib/dpkg/lock-frontend. It is held by process 1748 (apt)        \n",
            "Waiting for cache lock: Could not get lock /var/lib/dpkg/lock-frontend. It is held by process 1748 (apt)        \n",
            "Waiting for cache lock: Could not get lock /var/lib/dpkg/lock-frontend. It is held by process 1748 (apt)        \n",
            "Waiting for cache lock: Could not get lock /var/lib/dpkg/lock-frontend. It is held by process 1748 (apt)        \n",
            "Waiting for cache lock: Could not get lock /var/lib/dpkg/lock-frontend. It is held by process 1748 (apt)        \n",
            "Waiting for cache lock: Could not get lock /var/lib/dpkg/lock-frontend. It is held by process 1748 (apt)        \n",
            "Waiting for cache lock: Could not get lock /var/lib/dpkg/lock-frontend. It is held by process 1748 (apt)        \n",
            "Waiting for cache lock: Could not get lock /var/lib/dpkg/lock-frontend. It is held by process 1748 (apt)        \n",
            "Waiting for cache lock: Could not get lock /var/lib/dpkg/lock-frontend. It is held by process 1748 (apt)        \n",
            "Waiting for cache lock: Could not get lock /var/lib/dpkg/lock-frontend. It is held by process 1748 (apt)        \n",
            "Waiting for cache lock: Could not get lock /var/lib/dpkg/lock-frontend. It is held by process 1748 (apt)        \n",
            "Waiting for cache lock: Could not get lock /var/lib/dpkg/lock-frontend. It is held by process 1748 (apt)        \n",
            "Waiting for cache lock: Could not get lock /var/lib/dpkg/lock-frontend. It is held by process 1748 (apt)        \n",
            "Waiting for cache lock: Could not get lock /var/lib/dpkg/lock-frontend. It is held by process 1748 (apt)        \n",
            "Waiting for cache lock: Could not get lock /var/lib/dpkg/lock-frontend. It is held by process 1748 (apt)        \n",
            "Waiting for cache lock: Could not get lock /var/lib/dpkg/lock-frontend. It is held by process 1748 (apt)        \n",
            "Waiting for cache lock: Could not get lock /var/lib/dpkg/lock-frontend. It is held by process 1748 (apt)        \n",
            "Waiting for cache lock: Could not get lock /var/lib/dpkg/lock-frontend. It is held by process 1748 (apt)        \n",
            "Waiting for cache lock: Could not get lock /var/lib/dpkg/lock-frontend. It is held by process 1748 (apt)        \n",
            "Waiting for cache lock: Could not get lock /var/lib/dpkg/lock-frontend. It is held by process 1748 (apt)        \n",
            "Waiting for cache lock: Could not get lock /var/lib/dpkg/lock-frontend. It is held by process 1748 (apt)        \n",
            "Waiting for cache lock: Could not get lock /var/lib/dpkg/lock-frontend. It is held by process 1748 (apt)        \n",
            "Waiting for cache lock: Could not get lock /var/lib/dpkg/lock-frontend. It is held by process 1748 (apt)        \n",
            "Waiting for cache lock: Could not get lock /var/lib/dpkg/lock-frontend. It is held by process 1748 (apt)        \n",
            "Waiting for cache lock: Could not get lock /var/lib/dpkg/lock-frontend. It is held by process 1748 (apt)        \n",
            "Waiting for cache lock: Could not get lock /var/lib/dpkg/lock-frontend. It is held by process 1748 (apt)        \n",
            "Waiting for cache lock: Could not get lock /var/lib/dpkg/lock-frontend. It is held by process 1748 (apt)        \n",
            "Waiting for cache lock: Could not get lock /var/lib/dpkg/lock-frontend. It is held by process 1748 (apt)        \n",
            "Waiting for cache lock: Could not get lock /var/lib/dpkg/lock-frontend. It is held by process 1748 (apt)        \n",
            "Waiting for cache lock: Could not get lock /var/lib/dpkg/lock-frontend. It is held by process 1748 (apt)        \n",
            "Waiting for cache lock: Could not get lock /var/lib/dpkg/lock-frontend. It is held by process 1748 (apt)        \n",
            "Waiting for cache lock: Could not get lock /var/lib/dpkg/lock-frontend. It is held by process 1748 (apt)        \n",
            "Waiting for cache lock: Could not get lock /var/lib/dpkg/lock-frontend. It is held by process 1748 (apt)        \n",
            "Waiting for cache lock: Could not get lock /var/lib/dpkg/lock-frontend. It is held by process 1748 (apt)        \n",
            "Waiting for cache lock: Could not get lock /var/lib/dpkg/lock-frontend. It is held by process 1748 (apt)        \n",
            "Waiting for cache lock: Could not get lock /var/lib/dpkg/lock-frontend. It is held by process 1748 (apt)        \n",
            "Waiting for cache lock: Could not get lock /var/lib/dpkg/lock-frontend. It is held by process 1748 (apt)        \n",
            "Waiting for cache lock: Could not get lock /var/lib/dpkg/lock-frontend. It is held by process 1748 (apt)        \n",
            "Waiting for cache lock: Could not get lock /var/lib/dpkg/lock-frontend. It is held by process 1748 (apt)        \n",
            "Waiting for cache lock: Could not get lock /var/lib/dpkg/lock-frontend. It is held by process 1748 (apt)        \n",
            "Waiting for cache lock: Could not get lock /var/lib/dpkg/lock-frontend. It is held by process 1748 (apt)        \n",
            "Waiting for cache lock: Could not get lock /var/lib/dpkg/lock-frontend. It is held by process 1748 (apt)        \n",
            "Waiting for cache lock: Could not get lock /var/lib/dpkg/lock-frontend. It is held by process 1748 (apt)        \n",
            "Waiting for cache lock: Could not get lock /var/lib/dpkg/lock-frontend. It is held by process 1748 (apt)        \n",
            "Waiting for cache lock: Could not get lock /var/lib/dpkg/lock-frontend. It is held by process 1748 (apt)        \n",
            "Waiting for cache lock: Could not get lock /var/lib/dpkg/lock-frontend. It is held by process 1748 (apt)        \n",
            "Waiting for cache lock: Could not get lock /var/lib/dpkg/lock-frontend. It is held by process 1748 (apt)        \n",
            "Waiting for cache lock: Could not get lock /var/lib/dpkg/lock-frontend. It is held by process 1748 (apt)        \n",
            "Waiting for cache lock: Could not get lock /var/lib/dpkg/lock-frontend. It is held by process 1748 (apt)        \n",
            "Waiting for cache lock: Could not get lock /var/lib/dpkg/lock-frontend. It is held by process 1748 (apt)        \n",
            "Waiting for cache lock: Could not get lock /var/lib/dpkg/lock-frontend. It is held by process 1748 (apt)        \n",
            "Waiting for cache lock: Could not get lock /var/lib/dpkg/lock-frontend. It is held by process 1748 (apt)        \n",
            "Waiting for cache lock: Could not get lock /var/lib/dpkg/lock-frontend. It is held by process 1748 (apt)        \n",
            "Waiting for cache lock: Could not get lock /var/lib/dpkg/lock-frontend. It is held by process 1748 (apt)        \n",
            "Waiting for cache lock: Could not get lock /var/lib/dpkg/lock-frontend. It is held by process 1748 (apt)        \n",
            "Waiting for cache lock: Could not get lock /var/lib/dpkg/lock-frontend. It is held by process 1748 (apt)        \n",
            "Waiting for cache lock: Could not get lock /var/lib/dpkg/lock-frontend. It is held by process 1748 (apt)        \n",
            "Waiting for cache lock: Could not get lock /var/lib/dpkg/lock-frontend. It is held by process 1748 (apt)        \n",
            "Waiting for cache lock: Could not get lock /var/lib/dpkg/lock-frontend. It is held by process 1748 (apt)        \n",
            "Waiting for cache lock: Could not get lock /var/lib/dpkg/lock-frontend. It is held by process 1748 (apt)        \n",
            "Waiting for cache lock: Could not get lock /var/lib/dpkg/lock-frontend. It is held by process 1748 (apt)        \n",
            "Waiting for cache lock: Could not get lock /var/lib/dpkg/lock-frontend. It is held by process 1748 (apt)        \n",
            "Waiting for cache lock: Could not get lock /var/lib/dpkg/lock-frontend. It is held by process 1748 (apt)        \n",
            "Waiting for cache lock: Could not get lock /var/lib/dpkg/lock-frontend. It is held by process 1748 (apt)        \n",
            "Waiting for cache lock: Could not get lock /var/lib/dpkg/lock-frontend. It is held by process 1748 (apt)        \n",
            "Waiting for cache lock: Could not get lock /var/lib/dpkg/lock-frontend. It is held by process 1748 (apt)        \n",
            "Waiting for cache lock: Could not get lock /var/lib/dpkg/lock-frontend. It is held by process 1748 (apt)        \n",
            "Waiting for cache lock: Could not get lock /var/lib/dpkg/lock-frontend. It is held by process 1748 (apt)        \n",
            "Waiting for cache lock: Could not get lock /var/lib/dpkg/lock-frontend. It is held by process 1748 (apt)        \n",
            "Waiting for cache lock: Could not get lock /var/lib/dpkg/lock-frontend. It is held by process 1748 (apt)        \n",
            "Waiting for cache lock: Could not get lock /var/lib/dpkg/lock-frontend. It is held by process 1748 (apt)        \n",
            "Waiting for cache lock: Could not get lock /var/lib/dpkg/lock-frontend. It is held by process 1748 (apt)        \n",
            "Waiting for cache lock: Could not get lock /var/lib/dpkg/lock-frontend. It is held by process 1748 (apt)        \n",
            "Waiting for cache lock: Could not get lock /var/lib/dpkg/lock-frontend. It is held by process 1748 (apt)        \n",
            "Waiting for cache lock: Could not get lock /var/lib/dpkg/lock-frontend. It is held by process 1748 (apt)        \n",
            "Waiting for cache lock: Could not get lock /var/lib/dpkg/lock-frontend. It is held by process 1748 (apt)        \n",
            "Waiting for cache lock: Could not get lock /var/lib/dpkg/lock-frontend. It is held by process 1748 (apt)        \n",
            "Waiting for cache lock: Could not get lock /var/lib/dpkg/lock-frontend. It is held by process 1748 (apt)        \n",
            "Waiting for cache lock: Could not get lock /var/lib/dpkg/lock-frontend. It is held by process 1748 (apt)        \n",
            "Waiting for cache lock: Could not get lock /var/lib/dpkg/lock-frontend. It is held by process 1748 (apt)        \n"
          ]
        }
      ]
    },
    {
      "cell_type": "code",
      "source": [
        "!sudo apt install nvidia-driver-530 -y"
      ],
      "metadata": {
        "id": "bjwL8fBo6AO7",
        "outputId": "c61ab6be-c37c-4e34-fb36-2f20a03cb6f8",
        "colab": {
          "base_uri": "https://localhost:8080/"
        }
      },
      "execution_count": null,
      "outputs": [
        {
          "metadata": {
            "tags": null
          },
          "name": "stdout",
          "output_type": "stream",
          "text": [
            "Reading package lists... Done\n",
            "Building dependency tree... Done\n",
            "Reading state information... Done\n",
            "The following packages were automatically installed and are no longer required:\n",
            "  ocl-icd-opencl-dev opencl-c-headers opencl-clhpp-headers\n",
            "Use 'sudo apt autoremove' to remove them.\n",
            "The following additional packages will be installed:\n",
            "  cpp-12 dctrl-tools dkms fakeroot gcc-12 keyboard-configuration libasan8\n",
            "  libfakeroot libfontenc1 libgail-common libgail18 libgcc-12-dev libgtk2.0-0\n",
            "  libgtk2.0-bin libgtk2.0-common libjansson4 liblocale-gettext-perl\n",
            "  libnvidia-cfg1-560 libnvidia-common-560 libnvidia-compute-560\n",
            "  libnvidia-decode-560 libnvidia-encode-560 libnvidia-extra-560\n",
            "  libnvidia-fbc1-560 libnvidia-gl-560 librsvg2-common libtsan2 libxcvt0\n",
            "  libxfont2 libxkbfile1 nvidia-compute-utils-560 nvidia-dkms-560\n",
            "  nvidia-driver-560 nvidia-firmware-560-560.35.05 nvidia-kernel-common-560\n",
            "  nvidia-kernel-source-560 nvidia-modprobe nvidia-prime nvidia-settings\n",
            "  nvidia-utils-560 python3-xkit screen-resolution-extra systemd-hwe-hwdb udev\n",
            "  x11-xkb-utils xcvt xfonts-base xfonts-encodings xfonts-utils xserver-common\n",
            "  xserver-xorg-core xserver-xorg-video-nvidia-560\n",
            "Suggested packages:\n",
            "  gcc-12-locales cpp-12-doc debtags menu gcc-12-multilib gcc-12-doc gvfs xfs\n",
            "  | xserver xfonts-100dpi | xfonts-75dpi xfonts-scalable\n",
            "Recommended packages:\n",
            "  libnvidia-compute-560:i386 libnvidia-decode-560:i386\n",
            "  libnvidia-encode-560:i386 libnvidia-fbc1-560:i386 libnvidia-gl-560:i386\n",
            "The following NEW packages will be installed:\n",
            "  cpp-12 dctrl-tools dkms fakeroot gcc-12 keyboard-configuration libasan8\n",
            "  libfakeroot libfontenc1 libgail-common libgail18 libgcc-12-dev libgtk2.0-0\n",
            "  libgtk2.0-bin libgtk2.0-common libjansson4 liblocale-gettext-perl\n",
            "  libnvidia-cfg1-560 libnvidia-common-560 libnvidia-compute-560\n",
            "  libnvidia-decode-560 libnvidia-encode-560 libnvidia-extra-560\n",
            "  libnvidia-fbc1-560 libnvidia-gl-560 librsvg2-common libtsan2 libxcvt0\n",
            "  libxfont2 libxkbfile1 nvidia-compute-utils-560 nvidia-dkms-560\n",
            "  nvidia-driver-530 nvidia-driver-560 nvidia-firmware-560-560.35.05\n",
            "  nvidia-kernel-common-560 nvidia-kernel-source-560 nvidia-modprobe\n",
            "  nvidia-prime nvidia-settings nvidia-utils-560 python3-xkit\n",
            "  screen-resolution-extra systemd-hwe-hwdb udev x11-xkb-utils xcvt xfonts-base\n",
            "  xfonts-encodings xfonts-utils xserver-common xserver-xorg-core\n",
            "  xserver-xorg-video-nvidia-560\n",
            "0 upgraded, 53 newly installed, 0 to remove and 25 not upgraded.\n",
            "Need to get 345 MB of archives.\n",
            "After this operation, 973 MB of additional disk space will be used.\n",
            "Get:1 http://archive.ubuntu.com/ubuntu jammy/main amd64 liblocale-gettext-perl amd64 1.07-4build3 [17.1 kB]\n",
            "Get:2 https://developer.download.nvidia.com/compute/cuda/repos/ubuntu2204/x86_64  libnvidia-cfg1-560 560.35.05-0ubuntu1 [145 kB]\n",
            "Get:3 http://archive.ubuntu.com/ubuntu jammy/main amd64 keyboard-configuration all 1.205ubuntu3 [206 kB]\n",
            "Get:4 http://archive.ubuntu.com/ubuntu jammy-updates/main amd64 cpp-12 amd64 12.3.0-1ubuntu1~22.04 [10.8 MB]\n",
            "Get:5 http://archive.ubuntu.com/ubuntu jammy-updates/main amd64 libasan8 amd64 12.3.0-1ubuntu1~22.04 [2,442 kB]\n",
            "Get:6 http://archive.ubuntu.com/ubuntu jammy-updates/main amd64 libtsan2 amd64 12.3.0-1ubuntu1~22.04 [2,477 kB]\n",
            "Get:7 http://archive.ubuntu.com/ubuntu jammy-updates/main amd64 libgcc-12-dev amd64 12.3.0-1ubuntu1~22.04 [2,618 kB]\n",
            "Get:8 https://developer.download.nvidia.com/compute/cuda/repos/ubuntu2204/x86_64  libnvidia-common-560 560.35.05-0ubuntu1 [15.7 kB]\n",
            "Get:9 http://archive.ubuntu.com/ubuntu jammy-updates/main amd64 gcc-12 amd64 12.3.0-1ubuntu1~22.04 [21.7 MB]\n",
            "Get:10 http://archive.ubuntu.com/ubuntu jammy/main amd64 dctrl-tools amd64 2.24-3build2 [66.9 kB]\n",
            "Get:11 http://archive.ubuntu.com/ubuntu jammy-updates/main amd64 dkms all 2.8.7-2ubuntu2.2 [70.1 kB]\n",
            "Get:12 http://archive.ubuntu.com/ubuntu jammy-updates/main amd64 udev amd64 249.11-0ubuntu3.12 [1,557 kB]\n",
            "Get:13 http://archive.ubuntu.com/ubuntu jammy/main amd64 libjansson4 amd64 2.13.1-1.1build3 [32.4 kB]\n",
            "Get:14 http://archive.ubuntu.com/ubuntu jammy/main amd64 libfakeroot amd64 1.28-1ubuntu1 [31.5 kB]\n",
            "Get:15 http://archive.ubuntu.com/ubuntu jammy/main amd64 fakeroot amd64 1.28-1ubuntu1 [60.4 kB]\n",
            "Get:16 http://archive.ubuntu.com/ubuntu jammy/main amd64 libfontenc1 amd64 1:1.1.4-1build3 [14.7 kB]\n",
            "Get:17 http://archive.ubuntu.com/ubuntu jammy-updates/main amd64 libgtk2.0-common all 2.24.33-2ubuntu2.1 [125 kB]\n",
            "Get:18 http://archive.ubuntu.com/ubuntu jammy-updates/main amd64 libgtk2.0-0 amd64 2.24.33-2ubuntu2.1 [2,038 kB]\n",
            "Get:19 https://developer.download.nvidia.com/compute/cuda/repos/ubuntu2204/x86_64  libnvidia-decode-560 560.35.05-0ubuntu1 [1,890 kB]\n",
            "Get:20 http://archive.ubuntu.com/ubuntu jammy-updates/main amd64 libgail18 amd64 2.24.33-2ubuntu2.1 [15.9 kB]\n",
            "Get:21 http://archive.ubuntu.com/ubuntu jammy-updates/main amd64 libgail-common amd64 2.24.33-2ubuntu2.1 [132 kB]\n",
            "Get:22 http://archive.ubuntu.com/ubuntu jammy-updates/main amd64 libgtk2.0-bin amd64 2.24.33-2ubuntu2.1 [7,936 B]\n",
            "Get:23 http://archive.ubuntu.com/ubuntu jammy-updates/main amd64 librsvg2-common amd64 2.52.5+dfsg-3ubuntu0.2 [17.7 kB]\n",
            "Get:24 http://archive.ubuntu.com/ubuntu jammy/main amd64 libxcvt0 amd64 0.1.1-3 [5,494 B]\n",
            "Get:25 http://archive.ubuntu.com/ubuntu jammy/main amd64 libxfont2 amd64 1:2.0.5-1build1 [94.5 kB]\n",
            "Get:26 http://archive.ubuntu.com/ubuntu jammy/main amd64 libxkbfile1 amd64 1:1.1.0-1build3 [71.8 kB]\n",
            "Get:27 http://archive.ubuntu.com/ubuntu jammy/main amd64 x11-xkb-utils amd64 7.7+5build4 [172 kB]\n",
            "Get:28 http://archive.ubuntu.com/ubuntu jammy-updates/main amd64 xserver-common all 2:21.1.4-2ubuntu1.7~22.04.12 [28.7 kB]\n",
            "Get:29 http://archive.ubuntu.com/ubuntu jammy-updates/main amd64 xserver-xorg-core amd64 2:21.1.4-2ubuntu1.7~22.04.12 [1,477 kB]\n",
            "Get:30 http://archive.ubuntu.com/ubuntu jammy/main amd64 nvidia-prime all 0.8.17.1 [9,956 B]\n",
            "Get:31 http://archive.ubuntu.com/ubuntu jammy/main amd64 python3-xkit all 0.5.0ubuntu5 [18.5 kB]\n",
            "Get:32 http://archive.ubuntu.com/ubuntu jammy/main amd64 screen-resolution-extra all 0.18.2 [4,396 B]\n",
            "Get:33 http://archive.ubuntu.com/ubuntu jammy-updates/main amd64 systemd-hwe-hwdb all 249.11.5 [3,228 B]\n",
            "Get:34 http://archive.ubuntu.com/ubuntu jammy/main amd64 xcvt amd64 0.1.1-3 [7,140 B]\n",
            "Get:35 http://archive.ubuntu.com/ubuntu jammy/main amd64 xfonts-encodings all 1:1.0.5-0ubuntu2 [578 kB]\n",
            "Get:36 http://archive.ubuntu.com/ubuntu jammy/main amd64 xfonts-utils amd64 1:7.7+6build2 [94.6 kB]\n",
            "Get:37 http://archive.ubuntu.com/ubuntu jammy/main amd64 xfonts-base all 1:1.0.5 [5,896 kB]\n",
            "Get:38 https://developer.download.nvidia.com/compute/cuda/repos/ubuntu2204/x86_64  libnvidia-compute-560 560.35.05-0ubuntu1 [48.4 MB]\n",
            "Get:39 https://developer.download.nvidia.com/compute/cuda/repos/ubuntu2204/x86_64  libnvidia-encode-560 560.35.05-0ubuntu1 [103 kB]\n",
            "Get:40 https://developer.download.nvidia.com/compute/cuda/repos/ubuntu2204/x86_64  libnvidia-extra-560 560.35.05-0ubuntu1 [71.6 kB]\n",
            "Get:41 https://developer.download.nvidia.com/compute/cuda/repos/ubuntu2204/x86_64  libnvidia-fbc1-560 560.35.05-0ubuntu1 [93.3 kB]\n",
            "Get:42 https://developer.download.nvidia.com/compute/cuda/repos/ubuntu2204/x86_64  libnvidia-gl-560 560.35.05-0ubuntu1 [142 MB]\n",
            "Get:43 https://developer.download.nvidia.com/compute/cuda/repos/ubuntu2204/x86_64  nvidia-compute-utils-560 560.35.05-0ubuntu1 [117 kB]\n",
            "Get:44 https://developer.download.nvidia.com/compute/cuda/repos/ubuntu2204/x86_64  nvidia-kernel-source-560 560.35.05-0ubuntu1 [50.9 MB]\n",
            "Get:45 https://developer.download.nvidia.com/compute/cuda/repos/ubuntu2204/x86_64  nvidia-firmware-560-560.35.05 560.35.05-0ubuntu1 [45.1 MB]\n",
            "Get:46 https://developer.download.nvidia.com/compute/cuda/repos/ubuntu2204/x86_64  nvidia-modprobe 570.86.15-0ubuntu1 [14.9 kB]\n",
            "Get:47 https://developer.download.nvidia.com/compute/cuda/repos/ubuntu2204/x86_64  nvidia-kernel-common-560 560.35.05-0ubuntu1 [97.5 kB]\n",
            "Get:48 https://developer.download.nvidia.com/compute/cuda/repos/ubuntu2204/x86_64  nvidia-dkms-560 560.35.05-0ubuntu1 [34.4 kB]\n",
            "Get:49 https://developer.download.nvidia.com/compute/cuda/repos/ubuntu2204/x86_64  nvidia-utils-560 560.35.05-0ubuntu1 [497 kB]\n",
            "Get:50 https://developer.download.nvidia.com/compute/cuda/repos/ubuntu2204/x86_64  xserver-xorg-video-nvidia-560 560.35.05-0ubuntu1 [1,616 kB]\n",
            "Get:51 https://developer.download.nvidia.com/compute/cuda/repos/ubuntu2204/x86_64  nvidia-driver-560 560.35.05-0ubuntu1 [495 kB]\n",
            "Get:52 https://developer.download.nvidia.com/compute/cuda/repos/ubuntu2204/x86_64  nvidia-driver-530 560.35.03-0ubuntu1 [13.0 kB]\n",
            "Get:53 https://developer.download.nvidia.com/compute/cuda/repos/ubuntu2204/x86_64  nvidia-settings 570.86.15-0ubuntu1 [959 kB]\n",
            "Fetched 345 MB in 1min 50s (3,131 kB/s)\n",
            "debconf: unable to initialize frontend: Dialog\n",
            "debconf: (No usable dialog-like program is installed, so the dialog based frontend cannot be used. at /usr/share/perl5/Debconf/FrontEnd/Dialog.pm line 78, <> line 53.)\n",
            "debconf: falling back to frontend: Readline\n",
            "debconf: unable to initialize frontend: Readline\n",
            "debconf: (This frontend requires a controlling tty.)\n",
            "debconf: falling back to frontend: Teletype\n",
            "dpkg-preconfigure: unable to re-open stdin: \n",
            "Selecting previously unselected package liblocale-gettext-perl.\n",
            "(Reading database ... 124923 files and directories currently installed.)\n",
            "Preparing to unpack .../00-liblocale-gettext-perl_1.07-4build3_amd64.deb ...\n",
            "Unpacking liblocale-gettext-perl (1.07-4build3) ...\n",
            "Selecting previously unselected package keyboard-configuration.\n",
            "Preparing to unpack .../01-keyboard-configuration_1.205ubuntu3_all.deb ...\n",
            "Unpacking keyboard-configuration (1.205ubuntu3) ...\n",
            "Selecting previously unselected package cpp-12.\n",
            "Preparing to unpack .../02-cpp-12_12.3.0-1ubuntu1~22.04_amd64.deb ...\n",
            "Unpacking cpp-12 (12.3.0-1ubuntu1~22.04) ...\n",
            "Selecting previously unselected package libasan8:amd64.\n",
            "Preparing to unpack .../03-libasan8_12.3.0-1ubuntu1~22.04_amd64.deb ...\n",
            "Unpacking libasan8:amd64 (12.3.0-1ubuntu1~22.04) ...\n",
            "Selecting previously unselected package libtsan2:amd64.\n",
            "Preparing to unpack .../04-libtsan2_12.3.0-1ubuntu1~22.04_amd64.deb ...\n",
            "Unpacking libtsan2:amd64 (12.3.0-1ubuntu1~22.04) ...\n",
            "Selecting previously unselected package libgcc-12-dev:amd64.\n",
            "Preparing to unpack .../05-libgcc-12-dev_12.3.0-1ubuntu1~22.04_amd64.deb ...\n",
            "Unpacking libgcc-12-dev:amd64 (12.3.0-1ubuntu1~22.04) ...\n",
            "Selecting previously unselected package gcc-12.\n",
            "Preparing to unpack .../06-gcc-12_12.3.0-1ubuntu1~22.04_amd64.deb ...\n",
            "Unpacking gcc-12 (12.3.0-1ubuntu1~22.04) ...\n",
            "Selecting previously unselected package dctrl-tools.\n",
            "Preparing to unpack .../07-dctrl-tools_2.24-3build2_amd64.deb ...\n",
            "Unpacking dctrl-tools (2.24-3build2) ...\n",
            "Selecting previously unselected package dkms.\n",
            "Preparing to unpack .../08-dkms_2.8.7-2ubuntu2.2_all.deb ...\n",
            "Unpacking dkms (2.8.7-2ubuntu2.2) ...\n",
            "Selecting previously unselected package udev.\n",
            "Preparing to unpack .../09-udev_249.11-0ubuntu3.12_amd64.deb ...\n",
            "Unpacking udev (249.11-0ubuntu3.12) ...\n",
            "Selecting previously unselected package libjansson4:amd64.\n",
            "Preparing to unpack .../10-libjansson4_2.13.1-1.1build3_amd64.deb ...\n",
            "Unpacking libjansson4:amd64 (2.13.1-1.1build3) ...\n",
            "Selecting previously unselected package libfakeroot:amd64.\n",
            "Preparing to unpack .../11-libfakeroot_1.28-1ubuntu1_amd64.deb ...\n",
            "Unpacking libfakeroot:amd64 (1.28-1ubuntu1) ...\n",
            "Selecting previously unselected package fakeroot.\n",
            "Preparing to unpack .../12-fakeroot_1.28-1ubuntu1_amd64.deb ...\n",
            "Unpacking fakeroot (1.28-1ubuntu1) ...\n",
            "Selecting previously unselected package libfontenc1:amd64.\n",
            "Preparing to unpack .../13-libfontenc1_1%3a1.1.4-1build3_amd64.deb ...\n",
            "Unpacking libfontenc1:amd64 (1:1.1.4-1build3) ...\n",
            "Selecting previously unselected package libgtk2.0-common.\n",
            "Preparing to unpack .../14-libgtk2.0-common_2.24.33-2ubuntu2.1_all.deb ...\n",
            "Unpacking libgtk2.0-common (2.24.33-2ubuntu2.1) ...\n",
            "Selecting previously unselected package libgtk2.0-0:amd64.\n",
            "Preparing to unpack .../15-libgtk2.0-0_2.24.33-2ubuntu2.1_amd64.deb ...\n",
            "Unpacking libgtk2.0-0:amd64 (2.24.33-2ubuntu2.1) ...\n",
            "Selecting previously unselected package libgail18:amd64.\n",
            "Preparing to unpack .../16-libgail18_2.24.33-2ubuntu2.1_amd64.deb ...\n",
            "Unpacking libgail18:amd64 (2.24.33-2ubuntu2.1) ...\n",
            "Selecting previously unselected package libgail-common:amd64.\n",
            "Preparing to unpack .../17-libgail-common_2.24.33-2ubuntu2.1_amd64.deb ...\n",
            "Unpacking libgail-common:amd64 (2.24.33-2ubuntu2.1) ...\n",
            "Selecting previously unselected package libgtk2.0-bin.\n",
            "Preparing to unpack .../18-libgtk2.0-bin_2.24.33-2ubuntu2.1_amd64.deb ...\n",
            "Unpacking libgtk2.0-bin (2.24.33-2ubuntu2.1) ...\n",
            "Selecting previously unselected package libnvidia-cfg1-560:amd64.\n",
            "Preparing to unpack .../19-libnvidia-cfg1-560_560.35.05-0ubuntu1_amd64.deb ...\n",
            "Unpacking libnvidia-cfg1-560:amd64 (560.35.05-0ubuntu1) ...\n",
            "Selecting previously unselected package libnvidia-common-560.\n",
            "Preparing to unpack .../20-libnvidia-common-560_560.35.05-0ubuntu1_all.deb ...\n",
            "Unpacking libnvidia-common-560 (560.35.05-0ubuntu1) ...\n",
            "Selecting previously unselected package libnvidia-decode-560:amd64.\n",
            "Preparing to unpack .../21-libnvidia-decode-560_560.35.05-0ubuntu1_amd64.deb ...\n",
            "Unpacking libnvidia-decode-560:amd64 (560.35.05-0ubuntu1) ...\n",
            "Selecting previously unselected package libnvidia-compute-560:amd64.\n",
            "Preparing to unpack .../22-libnvidia-compute-560_560.35.05-0ubuntu1_amd64.deb ...\n",
            "Unpacking libnvidia-compute-560:amd64 (560.35.05-0ubuntu1) ...\n",
            "Selecting previously unselected package libnvidia-encode-560:amd64.\n",
            "Preparing to unpack .../23-libnvidia-encode-560_560.35.05-0ubuntu1_amd64.deb ...\n",
            "Unpacking libnvidia-encode-560:amd64 (560.35.05-0ubuntu1) ...\n",
            "Selecting previously unselected package libnvidia-extra-560:amd64.\n",
            "Preparing to unpack .../24-libnvidia-extra-560_560.35.05-0ubuntu1_amd64.deb ...\n",
            "Unpacking libnvidia-extra-560:amd64 (560.35.05-0ubuntu1) ...\n",
            "Selecting previously unselected package libnvidia-fbc1-560:amd64.\n",
            "Preparing to unpack .../25-libnvidia-fbc1-560_560.35.05-0ubuntu1_amd64.deb ...\n",
            "Unpacking libnvidia-fbc1-560:amd64 (560.35.05-0ubuntu1) ...\n",
            "Selecting previously unselected package libnvidia-gl-560:amd64.\n",
            "Preparing to unpack .../26-libnvidia-gl-560_560.35.05-0ubuntu1_amd64.deb ...\n",
            "\u001b[1mdpkg-query:\u001b[0m no packages found matching libnvidia-gl-535\n",
            "Unpacking libnvidia-gl-560:amd64 (560.35.05-0ubuntu1) ...\n",
            "Selecting previously unselected package librsvg2-common:amd64.\n",
            "Preparing to unpack .../27-librsvg2-common_2.52.5+dfsg-3ubuntu0.2_amd64.deb ...\n",
            "Unpacking librsvg2-common:amd64 (2.52.5+dfsg-3ubuntu0.2) ...\n",
            "Selecting previously unselected package libxcvt0:amd64.\n",
            "Preparing to unpack .../28-libxcvt0_0.1.1-3_amd64.deb ...\n",
            "Unpacking libxcvt0:amd64 (0.1.1-3) ...\n",
            "Selecting previously unselected package libxfont2:amd64.\n",
            "Preparing to unpack .../29-libxfont2_1%3a2.0.5-1build1_amd64.deb ...\n",
            "Unpacking libxfont2:amd64 (1:2.0.5-1build1) ...\n",
            "Selecting previously unselected package libxkbfile1:amd64.\n",
            "Preparing to unpack .../30-libxkbfile1_1%3a1.1.0-1build3_amd64.deb ...\n",
            "Unpacking libxkbfile1:amd64 (1:1.1.0-1build3) ...\n",
            "Selecting previously unselected package nvidia-compute-utils-560.\n",
            "Preparing to unpack .../31-nvidia-compute-utils-560_560.35.05-0ubuntu1_amd64.deb ...\n",
            "Unpacking nvidia-compute-utils-560 (560.35.05-0ubuntu1) ...\n",
            "Selecting previously unselected package nvidia-kernel-source-560.\n",
            "Preparing to unpack .../32-nvidia-kernel-source-560_560.35.05-0ubuntu1_amd64.deb ...\n",
            "Unpacking nvidia-kernel-source-560 (560.35.05-0ubuntu1) ...\n",
            "Selecting previously unselected package nvidia-firmware-560-560.35.05.\n",
            "Preparing to unpack .../33-nvidia-firmware-560-560.35.05_560.35.05-0ubuntu1_amd64.deb ...\n",
            "Unpacking nvidia-firmware-560-560.35.05 (560.35.05-0ubuntu1) ...\n",
            "Selecting previously unselected package nvidia-modprobe.\n",
            "Preparing to unpack .../34-nvidia-modprobe_570.86.15-0ubuntu1_amd64.deb ...\n",
            "Unpacking nvidia-modprobe (570.86.15-0ubuntu1) ...\n",
            "Selecting previously unselected package nvidia-kernel-common-560.\n",
            "Preparing to unpack .../35-nvidia-kernel-common-560_560.35.05-0ubuntu1_amd64.deb ...\n",
            "Unpacking nvidia-kernel-common-560 (560.35.05-0ubuntu1) ...\n",
            "Selecting previously unselected package nvidia-dkms-560.\n",
            "Preparing to unpack .../36-nvidia-dkms-560_560.35.05-0ubuntu1_amd64.deb ...\n",
            "Unpacking nvidia-dkms-560 (560.35.05-0ubuntu1) ...\n",
            "Selecting previously unselected package nvidia-utils-560.\n",
            "Preparing to unpack .../37-nvidia-utils-560_560.35.05-0ubuntu1_amd64.deb ...\n",
            "Unpacking nvidia-utils-560 (560.35.05-0ubuntu1) ...\n",
            "Selecting previously unselected package x11-xkb-utils.\n",
            "Preparing to unpack .../38-x11-xkb-utils_7.7+5build4_amd64.deb ...\n",
            "Unpacking x11-xkb-utils (7.7+5build4) ...\n",
            "Selecting previously unselected package xserver-common.\n",
            "Preparing to unpack .../39-xserver-common_2%3a21.1.4-2ubuntu1.7~22.04.12_all.deb ...\n",
            "Unpacking xserver-common (2:21.1.4-2ubuntu1.7~22.04.12) ...\n",
            "Selecting previously unselected package xserver-xorg-core.\n",
            "Preparing to unpack .../40-xserver-xorg-core_2%3a21.1.4-2ubuntu1.7~22.04.12_amd64.deb ...\n",
            "Unpacking xserver-xorg-core (2:21.1.4-2ubuntu1.7~22.04.12) ...\n",
            "Selecting previously unselected package xserver-xorg-video-nvidia-560.\n",
            "Preparing to unpack .../41-xserver-xorg-video-nvidia-560_560.35.05-0ubuntu1_amd64.deb ...\n",
            "Unpacking xserver-xorg-video-nvidia-560 (560.35.05-0ubuntu1) ...\n",
            "Selecting previously unselected package nvidia-driver-560.\n",
            "Preparing to unpack .../42-nvidia-driver-560_560.35.05-0ubuntu1_amd64.deb ...\n",
            "Unpacking nvidia-driver-560 (560.35.05-0ubuntu1) ...\n",
            "Selecting previously unselected package nvidia-driver-530.\n",
            "Preparing to unpack .../43-nvidia-driver-530_560.35.03-0ubuntu1_amd64.deb ...\n",
            "Unpacking nvidia-driver-530 (560.35.03-0ubuntu1) ...\n",
            "Selecting previously unselected package nvidia-prime.\n",
            "Preparing to unpack .../44-nvidia-prime_0.8.17.1_all.deb ...\n",
            "Unpacking nvidia-prime (0.8.17.1) ...\n",
            "Selecting previously unselected package python3-xkit.\n",
            "Preparing to unpack .../45-python3-xkit_0.5.0ubuntu5_all.deb ...\n",
            "Unpacking python3-xkit (0.5.0ubuntu5) ...\n",
            "Selecting previously unselected package screen-resolution-extra.\n",
            "Preparing to unpack .../46-screen-resolution-extra_0.18.2_all.deb ...\n",
            "Unpacking screen-resolution-extra (0.18.2) ...\n",
            "Selecting previously unselected package nvidia-settings.\n",
            "Preparing to unpack .../47-nvidia-settings_570.86.15-0ubuntu1_amd64.deb ...\n",
            "Unpacking nvidia-settings (570.86.15-0ubuntu1) ...\n",
            "Selecting previously unselected package systemd-hwe-hwdb.\n",
            "Preparing to unpack .../48-systemd-hwe-hwdb_249.11.5_all.deb ...\n",
            "Unpacking systemd-hwe-hwdb (249.11.5) ...\n",
            "Selecting previously unselected package xcvt.\n",
            "Preparing to unpack .../49-xcvt_0.1.1-3_amd64.deb ...\n",
            "Unpacking xcvt (0.1.1-3) ...\n",
            "Selecting previously unselected package xfonts-encodings.\n",
            "Preparing to unpack .../50-xfonts-encodings_1%3a1.0.5-0ubuntu2_all.deb ...\n",
            "Unpacking xfonts-encodings (1:1.0.5-0ubuntu2) ...\n",
            "Selecting previously unselected package xfonts-utils.\n",
            "Preparing to unpack .../51-xfonts-utils_1%3a7.7+6build2_amd64.deb ...\n",
            "Unpacking xfonts-utils (1:7.7+6build2) ...\n",
            "Selecting previously unselected package xfonts-base.\n",
            "Preparing to unpack .../52-xfonts-base_1%3a1.0.5_all.deb ...\n",
            "Unpacking xfonts-base (1:1.0.5) ...\n",
            "Setting up libnvidia-fbc1-560:amd64 (560.35.05-0ubuntu1) ...\n",
            "Setting up cpp-12 (12.3.0-1ubuntu1~22.04) ...\n",
            "Setting up nvidia-prime (0.8.17.1) ...\n",
            "Setting up libfakeroot:amd64 (1.28-1ubuntu1) ...\n",
            "Setting up libnvidia-common-560 (560.35.05-0ubuntu1) ...\n",
            "Setting up nvidia-kernel-source-560 (560.35.05-0ubuntu1) ...\n",
            "Setting up libjansson4:amd64 (2.13.1-1.1build3) ...\n",
            "Setting up nvidia-modprobe (570.86.15-0ubuntu1) ...\n",
            "Setting up fakeroot (1.28-1ubuntu1) ...\n",
            "update-alternatives: using /usr/bin/fakeroot-sysv to provide /usr/bin/fakeroot (fakeroot) in auto mode\n",
            "Setting up libfontenc1:amd64 (1:1.1.4-1build3) ...\n",
            "Setting up libnvidia-cfg1-560:amd64 (560.35.05-0ubuntu1) ...\n",
            "Setting up libnvidia-extra-560:amd64 (560.35.05-0ubuntu1) ...\n",
            "Setting up xfonts-encodings (1:1.0.5-0ubuntu2) ...\n",
            "Setting up udev (249.11-0ubuntu3.12) ...\n",
            "invoke-rc.d: could not determine current runlevel\n",
            "invoke-rc.d: policy-rc.d denied execution of start.\n",
            "Setting up librsvg2-common:amd64 (2.52.5+dfsg-3ubuntu0.2) ...\n",
            "Setting up systemd-hwe-hwdb (249.11.5) ...\n",
            "Setting up libasan8:amd64 (12.3.0-1ubuntu1~22.04) ...\n",
            "Setting up libxcvt0:amd64 (0.1.1-3) ...\n",
            "Setting up nvidia-firmware-560-560.35.05 (560.35.05-0ubuntu1) ...\n",
            "Setting up libgtk2.0-common (2.24.33-2ubuntu2.1) ...\n",
            "Setting up libxkbfile1:amd64 (1:1.1.0-1build3) ...\n",
            "Setting up libtsan2:amd64 (12.3.0-1ubuntu1~22.04) ...\n",
            "Setting up python3-xkit (0.5.0ubuntu5) ...\n",
            "Setting up libxfont2:amd64 (1:2.0.5-1build1) ...\n",
            "Setting up liblocale-gettext-perl (1.07-4build3) ...\n",
            "Setting up dctrl-tools (2.24-3build2) ...\n",
            "Setting up x11-xkb-utils (7.7+5build4) ...\n",
            "Setting up libgtk2.0-0:amd64 (2.24.33-2ubuntu2.1) ...\n",
            "Setting up nvidia-kernel-common-560 (560.35.05-0ubuntu1) ...\n",
            "Created symlink /etc/systemd/system/systemd-hibernate.service.wants/nvidia-hibernate.service → /lib/systemd/system/nvidia-hibernate.service.\n",
            "Created symlink /etc/systemd/system/systemd-suspend.service.wants/nvidia-resume.service → /lib/systemd/system/nvidia-resume.service.\n",
            "Created symlink /etc/systemd/system/systemd-hibernate.service.wants/nvidia-resume.service → /lib/systemd/system/nvidia-resume.service.\n",
            "Created symlink /etc/systemd/system/systemd-suspend.service.wants/nvidia-suspend.service → /lib/systemd/system/nvidia-suspend.service.\n",
            "Setting up xfonts-utils (1:7.7+6build2) ...\n",
            "Setting up xcvt (0.1.1-3) ...\n",
            "Setting up xfonts-base (1:1.0.5) ...\n",
            "Setting up libgcc-12-dev:amd64 (12.3.0-1ubuntu1~22.04) ...\n",
            "Setting up screen-resolution-extra (0.18.2) ...\n",
            "Setting up libgail18:amd64 (2.24.33-2ubuntu2.1) ...\n",
            "Setting up libgtk2.0-bin (2.24.33-2ubuntu2.1) ...\n",
            "Setting up nvidia-settings (570.86.15-0ubuntu1) ...\n",
            "Setting up xserver-common (2:21.1.4-2ubuntu1.7~22.04.12) ...\n",
            "Setting up keyboard-configuration (1.205ubuntu3) ...\n",
            "debconf: unable to initialize frontend: Dialog\n",
            "debconf: (No usable dialog-like program is installed, so the dialog based frontend cannot be used. at /usr/share/perl5/Debconf/FrontEnd/Dialog.pm line 78.)\n",
            "debconf: falling back to frontend: Readline\n",
            "Configuring keyboard-configuration\n",
            "----------------------------------\n",
            "\n",
            "The layout of keyboards varies per country, with some countries having multiple\n",
            "common layouts. Please select the country of origin for the keyboard of this\n",
            "computer.\n",
            "\n",
            "  1. Afghani\n",
            "  2. Albanian\n",
            "  3. Amharic\n",
            "  4. Arabic\n",
            "  5. Arabic (Morocco)\n",
            "  6. Arabic (Syria)\n",
            "  7. Armenian\n",
            "  8. A user-defined custom Layout\n",
            "  9. Azerbaijani\n",
            "  10. Bambara\n",
            "  11. Bangla\n",
            "  12. Belarusian\n",
            "  13. Belgian\n",
            "  14. Berber (Algeria, Latin)\n",
            "  15. Bosnian\n",
            "  16. Braille\n",
            "  17. Bulgarian\n",
            "  18. Burmese\n",
            "  19. Chinese\n",
            "  20. Croatian\n",
            "  21. Czech\n",
            "  22. Danish\n",
            "  23. Dhivehi\n",
            "  24. Dutch\n",
            "  25. Dzongkha\n",
            "  26. English (Australian)\n",
            "  27. English (Cameroon)\n",
            "  28. English (Ghana)\n",
            "  29. English (Nigeria)\n",
            "  30. English (South Africa)\n",
            "  31. English (UK)\n",
            "  32. English (US)\n",
            "  33. Esperanto\n",
            "  34. Estonian\n",
            "  35. Faroese\n",
            "  36. Filipino\n",
            "  37. Finnish\n",
            "  38. French\n",
            "  39. French (Canada)\n",
            "  40. French (Democratic Republic of the Congo)\n",
            "  41. French (Togo)\n",
            "  42. Georgian\n",
            "  43. German\n",
            "  44. German (Austria)\n",
            "  45. Greek\n",
            "  46. Hebrew\n",
            "  47. Hungarian\n",
            "  48. Icelandic\n",
            "  49. Indian\n",
            "  50. Indonesian (Javanese)\n",
            "  51. Indonesian (Latin)\n",
            "  52. Iraqi\n",
            "  53. Irish\n",
            "  54. Italian\n",
            "  55. Japanese\n",
            "  56. Japanese (PC-98)\n",
            "  57. Kazakh\n",
            "  58. Khmer (Cambodia)\n",
            "  59. Korean\n",
            "  60. Kyrgyz\n",
            "  61. Lao\n",
            "  62. Latvian\n",
            "  63. Lithuanian\n",
            "  64. Macedonian\n",
            "  65. Malay (Jawi, Arabic Keyboard)\n",
            "  66. Maltese\n",
            "  67. Maori\n",
            "  68. Moldavian\n",
            "  69. Mongolian\n",
            "  70. Montenegrin\n",
            "  71. Nepali\n",
            "  72. NKo (AZERTY)\n",
            "  73. Norwegian\n",
            "  74. Persian\n",
            "  75. Polish\n",
            "  76. Portuguese\n",
            "  77. Portuguese (Brazil)\n",
            "  78. Romanian\n",
            "  79. Russian\n",
            "  80. Serbian\n",
            "  81. Sinhala (phonetic)\n",
            "  82. Slovak\n",
            "  83. Slovenian\n",
            "  84. Spanish\n",
            "  85. Spanish (Latin American)\n",
            "  86. Swahili (Kenya)\n",
            "  87. Swahili (Tanzania)\n",
            "  88. Swedish\n",
            "  89. Switzerland\n",
            "  90. Taiwanese\n",
            "  91. Tajik\n",
            "  92. Thai\n",
            "  93. Tswana\n",
            "  94. Turkish\n",
            "  95. Turkmen\n",
            "  96. Ukrainian\n",
            "  97. Urdu (Pakistan)\n",
            "  98. Uzbek\n",
            "  99. Vietnamese\n",
            "  100. Wolof\n",
            "\u001b[4mCountry of origin for the keyboard: \u001b[m\u001b[1m"
          ]
        }
      ]
    },
    {
      "cell_type": "code",
      "source": [
        "!clinfo"
      ],
      "metadata": {
        "id": "J5YeZWE25weT",
        "outputId": "b62deea7-530b-4a7b-c174-0d36fbf87d4c",
        "colab": {
          "base_uri": "https://localhost:8080/"
        }
      },
      "execution_count": null,
      "outputs": [
        {
          "output_type": "stream",
          "name": "stdout",
          "text": [
            "Number of platforms                               0\n"
          ]
        }
      ]
    },
    {
      "cell_type": "code",
      "execution_count": null,
      "metadata": {
        "colab": {
          "base_uri": "https://localhost:8080/"
        },
        "id": "_VobJBnlumWX",
        "outputId": "092e15d5-df00-4fae-efd9-d17194471ae3"
      },
      "outputs": [
        {
          "name": "stdout",
          "output_type": "stream",
          "text": [
            "nvcc: NVIDIA (R) Cuda compiler driver\n",
            "Copyright (c) 2005-2024 NVIDIA Corporation\n",
            "Built on Tue_Oct_29_23:50:19_PDT_2024\n",
            "Cuda compilation tools, release 12.6, V12.6.85\n",
            "Build cuda_12.6.r12.6/compiler.35059454_0\n"
          ]
        }
      ],
      "source": [
        "# Check if CUDA (including drivers) is installed\n",
        "!/usr/local/cuda/bin/nvcc --version"
      ]
    },
    {
      "cell_type": "code",
      "execution_count": null,
      "metadata": {
        "id": "r7Oymm0BvSDa"
      },
      "outputs": [],
      "source": [
        "# If not, then install CUDA. Important notes:\n",
        "# 1. Better follow the instruction on https://developer.nvidia.com/cuda-downloads\n",
        "# 2. Mind your PC's settings: Operating System -> Architecture -> Distribution -> Version -> Installer Type: deb (local)\n",
        "# 3. Sample (student uncomments below code snippet and run it on purpose)\n",
        "#!wget https://developer.download.nvidia.com/compute/cuda/repos/ubuntu2204/x86_64/cuda-ubuntu2204.pin\n",
        "#!mv cuda-ubuntu2204.pin /etc/apt/preferences.d/cuda-repository-pin-600\n",
        "#!wget https://developer.download.nvidia.com/compute/cuda/12.6.3/local_installers/cuda-repo-ubuntu2204-12-6-local_12.6.3-560.35.05-1_amd64.deb\n",
        "#!dpkg -i cuda-repo-ubuntu2204-12-6-local_12.6.3-560.35.05-1_amd64.deb\n",
        "#!cp /var/cuda-repo-ubuntu2204-12-6-local/cuda-*-keyring.gpg /usr/share/keyrings/\n",
        "#!apt-get update\n",
        "#!apt-get -y install cuda-toolkit-12-6"
      ]
    },
    {
      "cell_type": "markdown",
      "metadata": {
        "id": "u1w8xLeF5O6S"
      },
      "source": [
        "# Task 1: Getting Started with OpenCL"
      ]
    },
    {
      "cell_type": "code",
      "execution_count": null,
      "metadata": {
        "id": "HmVsx0m4usla"
      },
      "outputs": [],
      "source": [
        "util = \"\"\"\n",
        "#include <stdio.h>\n",
        "#include <stdlib.h>\n",
        "#include <iostream>\n",
        "#include <sys/time.h>\n",
        "\n",
        "#define CL_TARGET_OPENCL_VERSION 120\n",
        "#include <CL/opencl.h>\n",
        "\n",
        "#define MAX_SOURCE_SIZE (0x100000)\n",
        "\n",
        "#define MAXVALUE 100\n",
        "\n",
        "//--------------------------------------------------------\n",
        "void dump (int *x, int N, int M)\n",
        "{\n",
        "    for (int i = 0; i < N; i++)\n",
        "        {\n",
        "            for (int j = 0; j < M; j++)\n",
        "                std::cout << x[i * M + j] << \" \";\n",
        "            std::cout << std::endl;\n",
        "        }\n",
        "    std::cout << \"----------------------------------------\" << std::endl;\n",
        "}\n",
        "\n",
        "void numberGen (int N, int max, int *store)\n",
        "{\n",
        "    #pragma omp parallel for\n",
        "    for (int i = 0; i < N; i++)\n",
        "        store[i] = rand () % max;\n",
        "}\n",
        "\n",
        "const char* getErrorString(cl_int error) {\n",
        "    switch (error) {\n",
        "        case CL_SUCCESS: return \"Success!\";\n",
        "        case CL_DEVICE_NOT_FOUND: return \"Device not found.\";\n",
        "        case CL_DEVICE_NOT_AVAILABLE: return \"Device not available\";\n",
        "        case CL_COMPILER_NOT_AVAILABLE: return \"Compiler not available\";\n",
        "        case CL_MEM_OBJECT_ALLOCATION_FAILURE: return \"Memory object allocation failure\";\n",
        "        case CL_OUT_OF_RESOURCES: return \"Out of resources\";\n",
        "        case CL_OUT_OF_HOST_MEMORY: return \"Out of host memory\";\n",
        "        case CL_PROFILING_INFO_NOT_AVAILABLE: return \"Profiling information not available\";\n",
        "        case CL_MEM_COPY_OVERLAP: return \"Memory copy overlap\";\n",
        "        case CL_IMAGE_FORMAT_MISMATCH: return \"Image format mismatch\";\n",
        "        case CL_IMAGE_FORMAT_NOT_SUPPORTED: return \"Image format not supported\";\n",
        "        case CL_BUILD_PROGRAM_FAILURE: return \"Program build failure\";\n",
        "        case CL_MAP_FAILURE: return \"Map failure\";\n",
        "        case CL_MISALIGNED_SUB_BUFFER_OFFSET: return \"Misaligned sub buffer offset\";\n",
        "        case CL_EXEC_STATUS_ERROR_FOR_EVENTS_IN_WAIT_LIST: return \"Execution status error for events in wait list\";\n",
        "        case CL_COMPILE_PROGRAM_FAILURE: return \"Compile program failure\";\n",
        "        case CL_LINKER_NOT_AVAILABLE: return \"Linker not available\";\n",
        "        case CL_LINK_PROGRAM_FAILURE: return \"Link program failure\";\n",
        "        case CL_DEVICE_PARTITION_FAILED: return \"Device partition failed\";\n",
        "        case CL_KERNEL_ARG_INFO_NOT_AVAILABLE: return \"Kernel argument information not available\";\n",
        "        default: return \"Unknown error\";\n",
        "    }\n",
        "}\n",
        "\n",
        "\"\"\""
      ]
    },
    {
      "cell_type": "code",
      "execution_count": null,
      "metadata": {
        "id": "kd98WGJouxDH"
      },
      "outputs": [],
      "source": [
        "main = \"\"\"\n",
        "int main(int argc, char *argv[]) {\n",
        "\n",
        "    if (argc != 4)\n",
        "    {\n",
        "        std::cout << \"Use : \" << argv[0] << \" N K M\" << std::endl;\n",
        "        exit (1);\n",
        "    }\n",
        "    srand (time (0));\n",
        "    const int N = atoi (argv[1]);\n",
        "    const int K = atoi (argv[2]);\n",
        "    const int M = atoi (argv[3]);\n",
        "\n",
        "    // Create the 3 vectors\n",
        "    int *A = new int[N*K];\n",
        "    int *B = new int[K*M];\n",
        "    int *C = new int[N*M];\n",
        "\n",
        "    numberGen (N*K, MAXVALUE, A);\n",
        "    numberGen (K*M, MAXVALUE, B);\n",
        "\n",
        "    struct timeval begin, end;\n",
        "\n",
        "    // Load the kernel source code into the array source_str\n",
        "    FILE *fp;\n",
        "    char *source_str;\n",
        "    size_t source_size;\n",
        "\n",
        "    fp = fopen(\"matmul_opencl_kernel.cl\", \"r\");\n",
        "    if (!fp) {\n",
        "        std::cerr << \"Failed to load kernel\" << std::endl;\n",
        "        exit(1);\n",
        "    }\n",
        "\n",
        "    source_str = (char*)malloc(MAX_SOURCE_SIZE);\n",
        "    source_size = fread(source_str, 1, MAX_SOURCE_SIZE, fp);\n",
        "    fclose(fp);\n",
        "\n",
        "    // Get platform and device information\n",
        "    cl_platform_id platform_id = NULL;\n",
        "    cl_device_id device_id = NULL;\n",
        "    cl_uint ret_num_devices;\n",
        "    cl_uint ret_num_platforms;\n",
        "    cl_int ret;\n",
        "    ret = clGetPlatformIDs(1, &platform_id, &ret_num_platforms);\n",
        "    ret = clGetDeviceIDs(platform_id, CL_DEVICE_TYPE_ALL, 1, &device_id, &ret_num_devices);\n",
        "\n",
        "    gettimeofday(&begin, 0);\n",
        "\n",
        "    // Create an OpenCL context for device in device_id\n",
        "    cl_context context = clCreateContext(NULL, 1, &device_id, NULL, NULL, &ret);\n",
        "\n",
        "    // Create a command queue for device in device_id\n",
        "    cl_command_queue queue = clCreateCommandQueue(context, device_id, 0, &ret);\n",
        "\n",
        "    // Create memory buffers on the device for each vector\n",
        "    cl_mem a_mem_obj = clCreateBuffer(context, CL_MEM_READ_ONLY, N * K * sizeof(int), NULL, &ret);\n",
        "    cl_mem b_mem_obj = clCreateBuffer(context, CL_MEM_READ_ONLY, K * M * sizeof(int), NULL, &ret);\n",
        "    cl_mem c_mem_obj = clCreateBuffer(context, CL_MEM_WRITE_ONLY, N * M * sizeof(int), NULL, &ret);\n",
        "\n",
        "    // Copy the vectors to their respective memory buffers\n",
        "    ret = clEnqueueWriteBuffer(queue, a_mem_obj, CL_TRUE, 0, N * K * sizeof(int), A, 0, NULL, NULL);\n",
        "    ret = clEnqueueWriteBuffer(queue, b_mem_obj, CL_TRUE, 0, K * M * sizeof(int), B, 0, NULL, NULL);\n",
        "\n",
        "    // Create a program from the kernel source\n",
        "    cl_program program = clCreateProgramWithSource(context, 1, (const char **)&source_str, (const size_t *)&source_size, &ret);\n",
        "\n",
        "    // Build the program\n",
        "    ret = clBuildProgram(program, 1, &device_id, NULL, NULL, NULL);\n",
        "\n",
        "    // Create the OpenCL kernel\n",
        "    cl_kernel kernel = clCreateKernel(program, \"matmul_kernel\", &ret);\n",
        "\n",
        "    // Set the arguments of the kernel\n",
        "    ret = clSetKernelArg(kernel, 0, sizeof(cl_mem), (void *)&a_mem_obj);\n",
        "    ret |= clSetKernelArg(kernel, 1, sizeof(cl_mem), (void *)&b_mem_obj);\n",
        "    ret |= clSetKernelArg(kernel, 2, sizeof(cl_mem), (void *)&c_mem_obj);\n",
        "    ret |= clSetKernelArg(kernel, 3, sizeof(int), (void *)&N);\n",
        "    ret |= clSetKernelArg(kernel, 4, sizeof(int), (void *)&K);\n",
        "    ret |= clSetKernelArg(kernel, 5, sizeof(int), (void *)&M);\n",
        "\n",
        "    // Set local and global workgroup sizes\n",
        "    size_t global_work_size[2] = {static_cast<size_t>(N), static_cast<size_t>(M)};\n",
        "    size_t local_work_size[2] = {1, 1}; // You can adjust this based on your device capabilities\n",
        "\n",
        "    // Execute the OpenCL kernel\n",
        "    ret = clEnqueueNDRangeKernel(queue, kernel, 2, NULL, global_work_size, local_work_size, 0, NULL, NULL);\n",
        "\n",
        "    // Read the memory buffer C on the device to the local variable C\n",
        "    ret = clEnqueueReadBuffer(queue, c_mem_obj, CL_TRUE, 0, N * M * sizeof(int), C, 0, NULL, NULL);\n",
        "\n",
        "    gettimeofday(&end, 0);\n",
        "\n",
        "    // Print the result to the terminal\n",
        "    // Uncomment to see the matrices\n",
        "    // dump(A, N, K);\n",
        "    // dump(B, K, M);\n",
        "    // dump(C, N, M);\n",
        "    // Print the result to the terminal\n",
        "    std::cout << \"Matrix A:\" << std::endl;\n",
        "    dump(A, N, K);\n",
        "\n",
        "    std::cout << \"Matrix B:\" << std::endl;\n",
        "    dump(B, K, M);\n",
        "\n",
        "    std::cout << \"Matrix C (Result):\" << std::endl;\n",
        "    dump(C, N, M);\n",
        "\n",
        "    // Calculate execution time\n",
        "    long seconds = end.tv_sec - begin.tv_sec;\n",
        "    long microseconds = end.tv_usec - begin.tv_usec;\n",
        "    double elapsed = seconds + microseconds * 1e-6;\n",
        "    std::cout << \"Time elapsed: \" << elapsed << \" seconds.\" << std::endl;\n",
        "\n",
        "    // Clean up\n",
        "    clFlush(queue);\n",
        "    clFinish(queue);\n",
        "    clReleaseKernel(kernel);\n",
        "    clReleaseProgram(program);\n",
        "    clReleaseMemObject(a_mem_obj);\n",
        "    clReleaseMemObject(b_mem_obj);\n",
        "    clReleaseMemObject(c_mem_obj);\n",
        "    clReleaseCommandQueue(queue);\n",
        "    clReleaseContext(context);\n",
        "    free(source_str);\n",
        "    delete[] A;\n",
        "    delete[] B;\n",
        "    delete[] C;\n",
        "\n",
        "    return 0;\n",
        "}\n",
        "\"\"\""
      ]
    },
    {
      "cell_type": "code",
      "execution_count": null,
      "metadata": {
        "id": "xU_HTC9Cu118"
      },
      "outputs": [],
      "source": [
        "kernel = \"\"\"\n",
        "__kernel void matmul_kernel(__global int *A, __global int *B, __global int *C, int N, int K, int M) {\n",
        "    // Get Index\n",
        "    int row = get_global_id(0);\n",
        "    int col = get_global_id(1);\n",
        "\n",
        "    // Calculate C[row][col]\n",
        "    if (row < N && col < M) {\n",
        "        int sum = 0;\n",
        "        for (int k = 0; k < K; k++) {\n",
        "            sum += A[row * K + k] * B[k * M + col];\n",
        "        }\n",
        "        C[row * M + col] = sum;\n",
        "    }\n",
        "}\n",
        "\"\"\""
      ]
    },
    {
      "cell_type": "code",
      "execution_count": null,
      "metadata": {
        "id": "MCik70_3u3jK"
      },
      "outputs": [],
      "source": [
        "cpp_file = open(\"matmul_opencl.cpp\", \"w\")\n",
        "cpp_file.write(util)\n",
        "cpp_file.write(main)\n",
        "cpp_file.close()"
      ]
    },
    {
      "cell_type": "code",
      "execution_count": null,
      "metadata": {
        "id": "9oWrmT3iu7fI"
      },
      "outputs": [],
      "source": [
        "opencl_kernel_file = open(\"matmul_opencl_kernel.cl\", \"w\")\n",
        "opencl_kernel_file.write(kernel)\n",
        "opencl_kernel_file.close()"
      ]
    },
    {
      "cell_type": "code",
      "execution_count": null,
      "metadata": {
        "id": "GumvWhoOu9XO",
        "outputId": "c23143c5-5712-4ff2-876a-0ce7fac26a3d"
      },
      "outputs": [
        {
          "name": "stdout",
          "output_type": "stream",
          "text": [
            "\u001b[01m\u001b[Kmatmul_opencl.cpp:4:\u001b[m\u001b[K \u001b[01;35m\u001b[Kwarning: \u001b[m\u001b[K\"CL_TARGET_OPENCL_VERSION\" redefined\n",
            "    4 | #define CL_TARGET_OPENCL_VERSION 120\n",
            "      | \n",
            "In file included from \u001b[01m\u001b[K/usr/local/cuda/include/CL/cl.h:20\u001b[m\u001b[K,\n",
            "                 from \u001b[01m\u001b[K/usr/local/cuda/include/CL/opencl.h:24\u001b[m\u001b[K,\n",
            "                 from \u001b[01m\u001b[Kmatmul_opencl.cpp:2\u001b[m\u001b[K:\n",
            "\u001b[01m\u001b[K/usr/local/cuda/include/CL/cl_version.h:23:\u001b[m\u001b[K \u001b[01;36m\u001b[Knote: \u001b[m\u001b[Kthis is the location of the previous definition\n",
            "   23 | #define CL_TARGET_OPENCL_VERSION 300\n",
            "      | \n",
            "\u001b[01m\u001b[K/usr/local/cuda/include/CL/cl_version.h:22:104:\u001b[m\u001b[K \u001b[01;36m\u001b[Knote: \u001b[m\u001b[K‘\u001b[01m\u001b[K#pragma message: cl_version.h: CL_TARGET_OPENCL_VERSION is not defined. Defaulting to 300 (OpenCL 3.0)\u001b[m\u001b[K’\n",
            "   22 | _TARGET_OPENCL_VERSION is not defined. Defaulting to 300 (OpenCL 3.0)\"\u001b[01;36m\u001b[K)\u001b[m\u001b[K\n",
            "      |                                                                       \u001b[01;36m\u001b[K^\u001b[m\u001b[K\n",
            "\n"
          ]
        }
      ],
      "source": [
        "!g++ -o matmul matmul_opencl.cpp -I/usr/local/cuda/include -L/usr/local/cuda/lib64 -lOpenCL"
      ]
    },
    {
      "cell_type": "code",
      "execution_count": null,
      "metadata": {
        "id": "MXVrs7ih5O6W",
        "outputId": "973e6346-bd5a-4b1f-ca7c-a311e83eb899"
      },
      "outputs": [
        {
          "name": "stdout",
          "output_type": "stream",
          "text": [
            "Failed to get number of platforms: Unknown error\n"
          ]
        }
      ],
      "source": [
        "!./matmul"
      ]
    },
    {
      "cell_type": "code",
      "execution_count": null,
      "metadata": {
        "colab": {
          "base_uri": "https://localhost:8080/"
        },
        "id": "zBQGhTo0vALX",
        "outputId": "ee0a58e1-ea74-4a42-94e9-430f6e163ab6"
      },
      "outputs": [
        {
          "name": "stdout",
          "output_type": "stream",
          "text": [
            "Failed to get number of platforms: Unknown error\n"
          ]
        }
      ],
      "source": [
        "!./matmul 2 2 2"
      ]
    },
    {
      "cell_type": "markdown",
      "metadata": {
        "id": "PwuY156J4BET"
      },
      "source": [
        "## Q1. Compare the result of parallel function to sequential function.\n",
        "\n",
        "TO-DO"
      ]
    },
    {
      "cell_type": "markdown",
      "metadata": {
        "id": "OUKDlL0438mS"
      },
      "source": [
        "## Q2. Try with different sizes of input.\n",
        "\n",
        "TO-DO"
      ]
    },
    {
      "cell_type": "markdown",
      "metadata": {
        "id": "byBb5PwhlAaQ",
        "outputId": "ab196d7d-bce9-474d-a4c0-0b56e0abe8ab"
      },
      "source": [
        "## Q3. Using `matplotlib` to compare the correlation between input size and running time of sequential and parallel methods.\n",
        "\n",
        "TO-DO\n",
        "\n",
        "Suggestion:\n",
        "+ Basic: Run ./matmul multiple times with multiple sizes of data to get raw output -> Put the results in Python's lists and use matplotlib to plot.\n",
        "+ Elegant: Use Python to invoke ./matmul, parse different sizes of data as the arguments of ./matmul, collect program's results, process and plot it."
      ]
    },
    {
      "cell_type": "markdown",
      "metadata": {
        "id": "kvotBvKo3eCW"
      },
      "source": [
        "## Q4. Compare runtime and efficiency of OpenMP and OpenCL.\n",
        "\n",
        "TO-DO"
      ]
    },
    {
      "cell_type": "markdown",
      "metadata": {
        "id": "wPCpRL-_4n2t"
      },
      "source": [
        "## Q5. Edit your OpenCL solution to use local variable."
      ]
    },
    {
      "cell_type": "code",
      "execution_count": null,
      "metadata": {
        "id": "uzpdhIXn5O6W"
      },
      "outputs": [],
      "source": [
        "kernel = \"\"\"\n",
        "    // TO-DO\n",
        "\"\"\""
      ]
    },
    {
      "cell_type": "code",
      "execution_count": null,
      "metadata": {
        "id": "22ZtD91H5O6W"
      },
      "outputs": [],
      "source": [
        "!g++ -o matmul matmul_opencl.cpp -I/usr/local/cuda/include -L/usr/local/cuda/lib64 -lOpenCL\n",
        "!./matmul 100 100 100"
      ]
    },
    {
      "cell_type": "markdown",
      "metadata": {
        "id": "ypumfGbz4sv_"
      },
      "source": [
        "## Q6. Compare the execution time of your global and local solutions, on different sizes of input.\n",
        "\n",
        "TO-DO (Same as Q3)"
      ]
    },
    {
      "cell_type": "markdown",
      "metadata": {
        "id": "JFpO9nJv5O6X"
      },
      "source": [
        "# Task 2: Pixelate an Image"
      ]
    },
    {
      "cell_type": "code",
      "execution_count": null,
      "metadata": {
        "id": "GMb_gfrK5O6X"
      },
      "outputs": [],
      "source": [
        "# Install libjpeg for JPEG manipulating in C/C++\n",
        "!apt-get install libjpeg-dev\n",
        "# Kindly check if libjpeg is installed\n",
        "!file /usr/include/jpeglib.h"
      ]
    },
    {
      "cell_type": "code",
      "execution_count": null,
      "metadata": {
        "id": "aM3HIYX45O6X"
      },
      "outputs": [],
      "source": [
        "# Prepare input image\n",
        "!wget \"https://raw.githubusercontent.com/opencv/opencv/refs/heads/4.x/samples/data/lena.jpg\" -O input.jpg"
      ]
    },
    {
      "cell_type": "code",
      "execution_count": null,
      "metadata": {
        "id": "tEGoZIFQ5O6X"
      },
      "outputs": [],
      "source": [
        "seq_func=\"\"\"\n",
        "#define BLOCK_SIZE 8\n",
        "// Sequential implementation of pixelization\n",
        "void pixelize_seq(ImageData& input, ImageData& output) {\n",
        "    for (int y = 0; y < input.height; y += BLOCK_SIZE) {\n",
        "        for (int x = 0; x < input.width; x += BLOCK_SIZE) {\n",
        "            // Calculate average color for block\n",
        "            int r = 0, g = 0, b = 0;\n",
        "            int count = 0;\n",
        "\n",
        "            // Sum all pixels in block\n",
        "            for (int by = 0; by < BLOCK_SIZE && y + by < input.height; by++) {\n",
        "                for (int bx = 0; bx < BLOCK_SIZE && x + bx < input.width; bx++) {\n",
        "                    int idx = ((y + by) * input.width + (x + bx)) * input.channels;\n",
        "                    r += input.data[idx];\n",
        "                    g += input.data[idx + 1];\n",
        "                    b += input.data[idx + 2];\n",
        "                    count++;\n",
        "                }\n",
        "            }\n",
        "\n",
        "            // Calculate average\n",
        "            r /= count;\n",
        "            g /= count;\n",
        "            b /= count;\n",
        "\n",
        "            // Apply average color to block\n",
        "            for (int by = 0; by < BLOCK_SIZE && y + by < input.height; by++) {\n",
        "                for (int bx = 0; bx < BLOCK_SIZE && x + bx < input.width; bx++) {\n",
        "                    int idx = ((y + by) * input.width + (x + bx)) * input.channels;\n",
        "                    output.data[idx] = r;\n",
        "                    output.data[idx + 1] = g;\n",
        "                    output.data[idx + 2] = b;\n",
        "                }\n",
        "            }\n",
        "        }\n",
        "    }\n",
        "}\n",
        "\"\"\""
      ]
    },
    {
      "cell_type": "markdown",
      "metadata": {
        "id": "QPYQPByQ5O6X"
      },
      "source": [
        "## Q1. Complete the program invoking pixelize_seq()"
      ]
    },
    {
      "cell_type": "code",
      "execution_count": null,
      "metadata": {
        "id": "kjnEfdj85O6X"
      },
      "outputs": [],
      "source": [
        "TO-DO"
      ]
    },
    {
      "cell_type": "code",
      "execution_count": null,
      "metadata": {
        "id": "jhnhd6RN5O6Y"
      },
      "outputs": [],
      "source": [
        "!g++ -o pixelate pixelate_opencl.cpp -I/usr/local/cuda/include -L/usr/local/cuda/lib64  -lOpenCL -ljpeg\n",
        "!./pixelate input.jpg"
      ]
    },
    {
      "cell_type": "markdown",
      "metadata": {
        "id": "FWG0IWS85O6Y"
      },
      "source": [
        "|Input|Output|\n",
        "|---|---|\n",
        "|![input.jpg](./input.jpg \"input.jpg\")|![output_seq.jpg](./output_seq.jpg \"output_seq.jpg\")|"
      ]
    },
    {
      "cell_type": "markdown",
      "metadata": {
        "id": "AY2yCeHj5O6Y"
      },
      "source": [
        "## Q2. Implement pixelize_kernel() in `pixelize_kernel.cl`"
      ]
    },
    {
      "cell_type": "code",
      "execution_count": null,
      "metadata": {
        "id": "pNsO1-Xn5O6Y"
      },
      "outputs": [],
      "source": [
        "TO-DO"
      ]
    },
    {
      "cell_type": "code",
      "execution_count": null,
      "metadata": {
        "id": "0ytj97t75O6Z"
      },
      "outputs": [],
      "source": [
        "!g++ -o pixelate pixelate_opencl.cpp -I/usr/local/cuda/include -L/usr/local/cuda/lib64  -lOpenCL -ljpeg\n",
        "!./pixelate input.jpg"
      ]
    },
    {
      "cell_type": "markdown",
      "metadata": {
        "id": "LtPLLxRl5O6Z"
      },
      "source": [
        "|Output Seq.|Output OCL|\n",
        "|---|---|\n",
        "|![output_seq.jpg](./output_seq.jpg \"output_seq.jpg\")|![output_ocl.jpg](./output_ocl.jpg \"output_ocl.jpg\")|"
      ]
    },
    {
      "cell_type": "markdown",
      "metadata": {
        "id": "gZR_jbTe5O6Z"
      },
      "source": [
        "## Q3. Using `matplotlib` to compare the correlation between input size and running time of sequential and parallel methods."
      ]
    },
    {
      "cell_type": "code",
      "execution_count": null,
      "metadata": {
        "id": "guSEyzap5O6Z"
      },
      "outputs": [],
      "source": [
        "TO-DO"
      ]
    },
    {
      "cell_type": "markdown",
      "metadata": {
        "id": "OazWSivY5O6Z"
      },
      "source": [
        "## Q4. If the kernel can be optimized, implement it and use `matplotlib` to plot the comparison."
      ]
    }
  ],
  "metadata": {
    "colab": {
      "provenance": [],
      "gpuType": "T4",
      "include_colab_link": true
    },
    "kernelspec": {
      "display_name": "Python 3",
      "name": "python3"
    },
    "language_info": {
      "codemirror_mode": {
        "name": "ipython",
        "version": 3
      },
      "file_extension": ".py",
      "mimetype": "text/x-python",
      "name": "python",
      "nbconvert_exporter": "python",
      "pygments_lexer": "ipython3",
      "version": "3.10.12"
    },
    "accelerator": "GPU"
  },
  "nbformat": 4,
  "nbformat_minor": 0
}